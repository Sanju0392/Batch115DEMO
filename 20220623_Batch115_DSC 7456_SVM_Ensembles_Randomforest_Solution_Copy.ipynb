{
 "cells": [
  {
   "cell_type": "markdown",
   "metadata": {},
   "source": [
    "## Problem Statement - \n",
    "* To predict whether the person will survive or not based on the diagonostic factors influencing Hepatitis"
   ]
  },
  {
   "cell_type": "markdown",
   "metadata": {},
   "source": [
    "### Dataset: _Hepatitis_ \n",
    "* This dataset contains occurrences of hepatitis in people.\n",
    "\n",
    "The dataset is obtained from the machine learning repository at UCI. It includes 155 records in two different classes which are die in 32 cases and live in 123 cases. The dataset includes 20 attributes (14 binary and 6 numerical attributes)."
   ]
  },
  {
   "cell_type": "markdown",
   "metadata": {},
   "source": [
    "### **Attribute information:**\n",
    "\n",
    "1. **target**: DIE (0), LIVE (1)\n",
    "2. **age**: 10, 20, 30, 40, 50, 60, 70, 80\n",
    "3. **gender**: male (1), female (2)\n",
    "\n",
    "           ------ no = 2,   yes = 1 ------\n",
    "\n",
    "4. **steroid**: no, yes \n",
    "5. **antivirals**: no, yes \n",
    "6. **fatique**: no, yes \n",
    "7. **malaise**: no, yes \n",
    "8. **anorexia**: no, yes \n",
    "9. **liverBig**: no, yes \n",
    "10. **liverFirm**: no, yes \n",
    "11. **spleen**: no, yes \n",
    "12. **spiders**: no, yes\n",
    "13. **ascites**: no, yes \n",
    "14. **varices**: no, yes\n",
    "15. **histology**: no, yes\n",
    "\n",
    "\n",
    "16. **bilirubin**: 0.39, 0.80, 1.20, 2.00, 3.00, 4.00 -- \n",
    "17. **alk**: 33, 80, 120, 160, 200, 250 ---\n",
    "18. **sgot**: 13, 100, 200, 300, 400, 500, ---\n",
    "19. **albu**: 2.1, 3.0, 3.8, 4.5, 5.0, 6.0, --- \n",
    "20. **protime**: 10, 20, 30, 40, 50, 60, 70, 80, 90, --- \n",
    "\n",
    "  * NA's are represented with \"?\""
   ]
  },
  {
   "cell_type": "markdown",
   "metadata": {},
   "source": [
    "### Identify Right Error Metrics\n",
    "\n",
    "    Based on the business have to identify the right error metrics."
   ]
  },
  {
   "cell_type": "markdown",
   "metadata": {},
   "source": [
    "##### Confusion Matrix"
   ]
  },
  {
   "cell_type": "code",
   "execution_count": 1,
   "metadata": {
    "ExecuteTime": {
     "end_time": "2022-06-23T13:40:54.889237Z",
     "start_time": "2022-06-23T13:40:54.836957Z"
    }
   },
   "outputs": [
    {
     "data": {
      "image/png": "[encoded data removed]",
      "text/plain": [
       "<IPython.core.display.Image object>"
      ]
     },
     "execution_count": 1,
     "metadata": {
      "image/png": {
       "width": 500
      }
     },
     "output_type": "execute_result"
    }
   ],
   "source": [
    "from IPython.display import Image\n",
    "\n",
    "Image(filename ='Confusion_Matrix.png',width=500)"
   ]
  },
  {
   "cell_type": "markdown",
   "metadata": {},
   "source": [
    "### Loading the required libraries"
   ]
  },
  {
   "cell_type": "markdown",
   "metadata": {},
   "source": [
    "#### Import Required Libraries"
   ]
  },
  {
   "cell_type": "code",
   "execution_count": 2,
   "metadata": {
    "ExecuteTime": {
     "end_time": "2022-06-23T13:45:04.407278Z",
     "start_time": "2022-06-23T13:45:00.162375Z"
    }
   },
   "outputs": [],
   "source": [
    "import os\n",
    "import numpy as np\n",
    "import pandas as pd\n",
    "\n",
    "from sklearn.model_selection import train_test_split,GridSearchCV\n",
    "from sklearn.preprocessing import StandardScaler\n",
    "\n",
    "from sklearn.metrics import accuracy_score,f1_score,recall_score,precision_score,classification_report,confusion_matrix\n",
    "\n",
    "### from imblearn.over_sampling import SMOTE  ## Sampling Technique\n",
    "\n",
    "import graphviz\n",
    "\n",
    "# Code to ignore warnings\n",
    "import warnings\n",
    "warnings.filterwarnings(\"ignore\")\n"
   ]
  },
  {
   "cell_type": "markdown",
   "metadata": {},
   "source": [
    "##### 1. Read the HEPATITIS dataset"
   ]
  },
  {
   "cell_type": "code",
   "execution_count": 3,
   "metadata": {
    "ExecuteTime": {
     "end_time": "2022-06-23T13:45:41.628922Z",
     "start_time": "2022-06-23T13:45:41.609948Z"
    },
    "scrolled": true
   },
   "outputs": [],
   "source": [
    "data = pd.read_csv(\"hepatitis_data.csv\",na_values=\"?\")"
   ]
  },
  {
   "cell_type": "markdown",
   "metadata": {},
   "source": [
    "##### 2. Check the dimensions (rows and columns)"
   ]
  },
  {
   "cell_type": "code",
   "execution_count": 4,
   "metadata": {
    "ExecuteTime": {
     "end_time": "2022-06-23T13:46:31.975432Z",
     "start_time": "2022-06-23T13:46:31.967263Z"
    },
    "scrolled": true
   },
   "outputs": [
    {
     "name": "stdout",
     "output_type": "stream",
     "text": [
      "Dataset has 155 rows, and 21 columns\n"
     ]
    }
   ],
   "source": [
    "print('Dataset has ' + str(data.shape[0]) + ' rows, and ' + str(data.shape[1]) + ' columns')"
   ]
  },
  {
   "cell_type": "markdown",
   "metadata": {},
   "source": [
    "##### 3. Check the datatype of each variable"
   ]
  },
  {
   "cell_type": "code",
   "execution_count": 5,
   "metadata": {
    "ExecuteTime": {
     "end_time": "2022-06-23T13:46:42.948122Z",
     "start_time": "2022-06-23T13:46:42.932820Z"
    }
   },
   "outputs": [
    {
     "data": {
      "text/plain": [
       "ID              int64\n",
       "target          int64\n",
       "age             int64\n",
       "gender          int64\n",
       "steroid       float64\n",
       "antivirals      int64\n",
       "fatigue       float64\n",
       "malaise       float64\n",
       "anorexia      float64\n",
       "liverBig      float64\n",
       "liverFirm     float64\n",
       "spleen        float64\n",
       "spiders       float64\n",
       "ascites       float64\n",
       "varices       float64\n",
       "bili          float64\n",
       "alk           float64\n",
       "sgot          float64\n",
       "albu          float64\n",
       "protime       float64\n",
       "histology       int64\n",
       "dtype: object"
      ]
     },
     "execution_count": 5,
     "metadata": {},
     "output_type": "execute_result"
    }
   ],
   "source": [
    "data.dtypes"
   ]
  },
  {
   "cell_type": "markdown",
   "metadata": {},
   "source": [
    "## _Exploratory Data Analysis_"
   ]
  },
  {
   "cell_type": "markdown",
   "metadata": {},
   "source": [
    "##### 4. Check the top 5 rows and observe the data"
   ]
  },
  {
   "cell_type": "code",
   "execution_count": 6,
   "metadata": {
    "ExecuteTime": {
     "end_time": "2022-06-23T13:47:02.917512Z",
     "start_time": "2022-06-23T13:47:02.832426Z"
    }
   },
   "outputs": [
    {
     "data": {
      "text/html": [
       "<div>\n",
       "<style scoped>\n",
       "    .dataframe tbody tr th:only-of-type {\n",
       "        vertical-align: middle;\n",
       "    }\n",
       "\n",
       "    .dataframe tbody tr th {\n",
       "        vertical-align: top;\n",
       "    }\n",
       "\n",
       "    .dataframe thead th {\n",
       "        text-align: right;\n",
       "    }\n",
       "</style>\n",
       "<table border=\"1\" class=\"dataframe\">\n",
       "  <thead>\n",
       "    <tr style=\"text-align: right;\">\n",
       "      <th></th>\n",
       "      <th>ID</th>\n",
       "      <th>target</th>\n",
       "      <th>age</th>\n",
       "      <th>gender</th>\n",
       "      <th>steroid</th>\n",
       "      <th>antivirals</th>\n",
       "      <th>fatigue</th>\n",
       "      <th>malaise</th>\n",
       "      <th>anorexia</th>\n",
       "      <th>liverBig</th>\n",
       "      <th>...</th>\n",
       "      <th>spleen</th>\n",
       "      <th>spiders</th>\n",
       "      <th>ascites</th>\n",
       "      <th>varices</th>\n",
       "      <th>bili</th>\n",
       "      <th>alk</th>\n",
       "      <th>sgot</th>\n",
       "      <th>albu</th>\n",
       "      <th>protime</th>\n",
       "      <th>histology</th>\n",
       "    </tr>\n",
       "  </thead>\n",
       "  <tbody>\n",
       "    <tr>\n",
       "      <th>0</th>\n",
       "      <td>1</td>\n",
       "      <td>1</td>\n",
       "      <td>30</td>\n",
       "      <td>2</td>\n",
       "      <td>1.0</td>\n",
       "      <td>2</td>\n",
       "      <td>2.0</td>\n",
       "      <td>2.0</td>\n",
       "      <td>2.0</td>\n",
       "      <td>1.0</td>\n",
       "      <td>...</td>\n",
       "      <td>2.0</td>\n",
       "      <td>2.0</td>\n",
       "      <td>2.0</td>\n",
       "      <td>2.0</td>\n",
       "      <td>1.0</td>\n",
       "      <td>85.0</td>\n",
       "      <td>18.0</td>\n",
       "      <td>4.0</td>\n",
       "      <td>NaN</td>\n",
       "      <td>1</td>\n",
       "    </tr>\n",
       "    <tr>\n",
       "      <th>1</th>\n",
       "      <td>2</td>\n",
       "      <td>1</td>\n",
       "      <td>50</td>\n",
       "      <td>1</td>\n",
       "      <td>1.0</td>\n",
       "      <td>2</td>\n",
       "      <td>1.0</td>\n",
       "      <td>2.0</td>\n",
       "      <td>2.0</td>\n",
       "      <td>1.0</td>\n",
       "      <td>...</td>\n",
       "      <td>2.0</td>\n",
       "      <td>2.0</td>\n",
       "      <td>2.0</td>\n",
       "      <td>2.0</td>\n",
       "      <td>0.9</td>\n",
       "      <td>135.0</td>\n",
       "      <td>42.0</td>\n",
       "      <td>3.5</td>\n",
       "      <td>NaN</td>\n",
       "      <td>1</td>\n",
       "    </tr>\n",
       "    <tr>\n",
       "      <th>2</th>\n",
       "      <td>3</td>\n",
       "      <td>1</td>\n",
       "      <td>78</td>\n",
       "      <td>1</td>\n",
       "      <td>2.0</td>\n",
       "      <td>2</td>\n",
       "      <td>1.0</td>\n",
       "      <td>2.0</td>\n",
       "      <td>2.0</td>\n",
       "      <td>2.0</td>\n",
       "      <td>...</td>\n",
       "      <td>2.0</td>\n",
       "      <td>2.0</td>\n",
       "      <td>2.0</td>\n",
       "      <td>2.0</td>\n",
       "      <td>0.7</td>\n",
       "      <td>96.0</td>\n",
       "      <td>32.0</td>\n",
       "      <td>4.0</td>\n",
       "      <td>NaN</td>\n",
       "      <td>1</td>\n",
       "    </tr>\n",
       "    <tr>\n",
       "      <th>3</th>\n",
       "      <td>4</td>\n",
       "      <td>1</td>\n",
       "      <td>31</td>\n",
       "      <td>1</td>\n",
       "      <td>NaN</td>\n",
       "      <td>1</td>\n",
       "      <td>2.0</td>\n",
       "      <td>2.0</td>\n",
       "      <td>2.0</td>\n",
       "      <td>2.0</td>\n",
       "      <td>...</td>\n",
       "      <td>2.0</td>\n",
       "      <td>2.0</td>\n",
       "      <td>2.0</td>\n",
       "      <td>2.0</td>\n",
       "      <td>0.7</td>\n",
       "      <td>46.0</td>\n",
       "      <td>52.0</td>\n",
       "      <td>4.0</td>\n",
       "      <td>80.0</td>\n",
       "      <td>1</td>\n",
       "    </tr>\n",
       "    <tr>\n",
       "      <th>4</th>\n",
       "      <td>5</td>\n",
       "      <td>1</td>\n",
       "      <td>34</td>\n",
       "      <td>1</td>\n",
       "      <td>2.0</td>\n",
       "      <td>2</td>\n",
       "      <td>2.0</td>\n",
       "      <td>2.0</td>\n",
       "      <td>2.0</td>\n",
       "      <td>2.0</td>\n",
       "      <td>...</td>\n",
       "      <td>2.0</td>\n",
       "      <td>2.0</td>\n",
       "      <td>2.0</td>\n",
       "      <td>2.0</td>\n",
       "      <td>1.0</td>\n",
       "      <td>NaN</td>\n",
       "      <td>200.0</td>\n",
       "      <td>4.0</td>\n",
       "      <td>NaN</td>\n",
       "      <td>1</td>\n",
       "    </tr>\n",
       "  </tbody>\n",
       "</table>\n",
       "<p>5 rows × 21 columns</p>\n",
       "</div>"
      ],
      "text/plain": [
       "   ID  target  age  gender  steroid  antivirals  fatigue  malaise  anorexia  \\\n",
       "0   1       1   30       2      1.0           2      2.0      2.0       2.0   \n",
       "1   2       1   50       1      1.0           2      1.0      2.0       2.0   \n",
       "2   3       1   78       1      2.0           2      1.0      2.0       2.0   \n",
       "3   4       1   31       1      NaN           1      2.0      2.0       2.0   \n",
       "4   5       1   34       1      2.0           2      2.0      2.0       2.0   \n",
       "\n",
       "   liverBig  ...  spleen  spiders  ascites  varices  bili    alk   sgot  albu  \\\n",
       "0       1.0  ...     2.0      2.0      2.0      2.0   1.0   85.0   18.0   4.0   \n",
       "1       1.0  ...     2.0      2.0      2.0      2.0   0.9  135.0   42.0   3.5   \n",
       "2       2.0  ...     2.0      2.0      2.0      2.0   0.7   96.0   32.0   4.0   \n",
       "3       2.0  ...     2.0      2.0      2.0      2.0   0.7   46.0   52.0   4.0   \n",
       "4       2.0  ...     2.0      2.0      2.0      2.0   1.0    NaN  200.0   4.0   \n",
       "\n",
       "   protime  histology  \n",
       "0      NaN          1  \n",
       "1      NaN          1  \n",
       "2      NaN          1  \n",
       "3     80.0          1  \n",
       "4      NaN          1  \n",
       "\n",
       "[5 rows x 21 columns]"
      ]
     },
     "execution_count": 6,
     "metadata": {},
     "output_type": "execute_result"
    }
   ],
   "source": [
    "data.head(5)"
   ]
  },
  {
   "cell_type": "markdown",
   "metadata": {},
   "source": [
    "##### 5. Check basic summary statistics of the data"
   ]
  },
  {
   "cell_type": "code",
   "execution_count": 8,
   "metadata": {
    "ExecuteTime": {
     "end_time": "2022-06-23T13:47:57.671442Z",
     "start_time": "2022-06-23T13:47:57.531805Z"
    }
   },
   "outputs": [
    {
     "data": {
      "text/html": [
       "<div>\n",
       "<style scoped>\n",
       "    .dataframe tbody tr th:only-of-type {\n",
       "        vertical-align: middle;\n",
       "    }\n",
       "\n",
       "    .dataframe tbody tr th {\n",
       "        vertical-align: top;\n",
       "    }\n",
       "\n",
       "    .dataframe thead th {\n",
       "        text-align: right;\n",
       "    }\n",
       "</style>\n",
       "<table border=\"1\" class=\"dataframe\">\n",
       "  <thead>\n",
       "    <tr style=\"text-align: right;\">\n",
       "      <th></th>\n",
       "      <th>ID</th>\n",
       "      <th>target</th>\n",
       "      <th>age</th>\n",
       "      <th>gender</th>\n",
       "      <th>steroid</th>\n",
       "      <th>antivirals</th>\n",
       "      <th>fatigue</th>\n",
       "      <th>malaise</th>\n",
       "      <th>anorexia</th>\n",
       "      <th>liverBig</th>\n",
       "      <th>...</th>\n",
       "      <th>spleen</th>\n",
       "      <th>spiders</th>\n",
       "      <th>ascites</th>\n",
       "      <th>varices</th>\n",
       "      <th>bili</th>\n",
       "      <th>alk</th>\n",
       "      <th>sgot</th>\n",
       "      <th>albu</th>\n",
       "      <th>protime</th>\n",
       "      <th>histology</th>\n",
       "    </tr>\n",
       "  </thead>\n",
       "  <tbody>\n",
       "    <tr>\n",
       "      <th>count</th>\n",
       "      <td>155.000000</td>\n",
       "      <td>155.000000</td>\n",
       "      <td>155.000000</td>\n",
       "      <td>155.000000</td>\n",
       "      <td>154.000000</td>\n",
       "      <td>155.000000</td>\n",
       "      <td>154.000000</td>\n",
       "      <td>154.000000</td>\n",
       "      <td>154.000000</td>\n",
       "      <td>145.000000</td>\n",
       "      <td>...</td>\n",
       "      <td>150.00000</td>\n",
       "      <td>150.000000</td>\n",
       "      <td>150.000000</td>\n",
       "      <td>150.00000</td>\n",
       "      <td>149.000000</td>\n",
       "      <td>126.000000</td>\n",
       "      <td>151.00000</td>\n",
       "      <td>139.000000</td>\n",
       "      <td>88.000000</td>\n",
       "      <td>155.000000</td>\n",
       "    </tr>\n",
       "    <tr>\n",
       "      <th>mean</th>\n",
       "      <td>78.000000</td>\n",
       "      <td>0.793548</td>\n",
       "      <td>41.200000</td>\n",
       "      <td>1.103226</td>\n",
       "      <td>1.506494</td>\n",
       "      <td>1.845161</td>\n",
       "      <td>1.350649</td>\n",
       "      <td>1.603896</td>\n",
       "      <td>1.792208</td>\n",
       "      <td>1.827586</td>\n",
       "      <td>...</td>\n",
       "      <td>1.80000</td>\n",
       "      <td>1.660000</td>\n",
       "      <td>1.866667</td>\n",
       "      <td>1.88000</td>\n",
       "      <td>1.427517</td>\n",
       "      <td>105.325397</td>\n",
       "      <td>85.89404</td>\n",
       "      <td>3.817266</td>\n",
       "      <td>61.852273</td>\n",
       "      <td>1.451613</td>\n",
       "    </tr>\n",
       "    <tr>\n",
       "      <th>std</th>\n",
       "      <td>44.888751</td>\n",
       "      <td>0.406070</td>\n",
       "      <td>12.565878</td>\n",
       "      <td>0.305240</td>\n",
       "      <td>0.501589</td>\n",
       "      <td>0.362923</td>\n",
       "      <td>0.478730</td>\n",
       "      <td>0.490682</td>\n",
       "      <td>0.407051</td>\n",
       "      <td>0.379049</td>\n",
       "      <td>...</td>\n",
       "      <td>0.40134</td>\n",
       "      <td>0.475296</td>\n",
       "      <td>0.341073</td>\n",
       "      <td>0.32605</td>\n",
       "      <td>1.212149</td>\n",
       "      <td>51.508109</td>\n",
       "      <td>89.65089</td>\n",
       "      <td>0.651523</td>\n",
       "      <td>22.875244</td>\n",
       "      <td>0.499266</td>\n",
       "    </tr>\n",
       "    <tr>\n",
       "      <th>min</th>\n",
       "      <td>1.000000</td>\n",
       "      <td>0.000000</td>\n",
       "      <td>7.000000</td>\n",
       "      <td>1.000000</td>\n",
       "      <td>1.000000</td>\n",
       "      <td>1.000000</td>\n",
       "      <td>1.000000</td>\n",
       "      <td>1.000000</td>\n",
       "      <td>1.000000</td>\n",
       "      <td>1.000000</td>\n",
       "      <td>...</td>\n",
       "      <td>1.00000</td>\n",
       "      <td>1.000000</td>\n",
       "      <td>1.000000</td>\n",
       "      <td>1.00000</td>\n",
       "      <td>0.300000</td>\n",
       "      <td>26.000000</td>\n",
       "      <td>14.00000</td>\n",
       "      <td>2.100000</td>\n",
       "      <td>0.000000</td>\n",
       "      <td>1.000000</td>\n",
       "    </tr>\n",
       "    <tr>\n",
       "      <th>25%</th>\n",
       "      <td>39.500000</td>\n",
       "      <td>1.000000</td>\n",
       "      <td>32.000000</td>\n",
       "      <td>1.000000</td>\n",
       "      <td>1.000000</td>\n",
       "      <td>2.000000</td>\n",
       "      <td>1.000000</td>\n",
       "      <td>1.000000</td>\n",
       "      <td>2.000000</td>\n",
       "      <td>2.000000</td>\n",
       "      <td>...</td>\n",
       "      <td>2.00000</td>\n",
       "      <td>1.000000</td>\n",
       "      <td>2.000000</td>\n",
       "      <td>2.00000</td>\n",
       "      <td>0.700000</td>\n",
       "      <td>74.250000</td>\n",
       "      <td>31.50000</td>\n",
       "      <td>3.400000</td>\n",
       "      <td>46.000000</td>\n",
       "      <td>1.000000</td>\n",
       "    </tr>\n",
       "    <tr>\n",
       "      <th>50%</th>\n",
       "      <td>78.000000</td>\n",
       "      <td>1.000000</td>\n",
       "      <td>39.000000</td>\n",
       "      <td>1.000000</td>\n",
       "      <td>2.000000</td>\n",
       "      <td>2.000000</td>\n",
       "      <td>1.000000</td>\n",
       "      <td>2.000000</td>\n",
       "      <td>2.000000</td>\n",
       "      <td>2.000000</td>\n",
       "      <td>...</td>\n",
       "      <td>2.00000</td>\n",
       "      <td>2.000000</td>\n",
       "      <td>2.000000</td>\n",
       "      <td>2.00000</td>\n",
       "      <td>1.000000</td>\n",
       "      <td>85.000000</td>\n",
       "      <td>58.00000</td>\n",
       "      <td>4.000000</td>\n",
       "      <td>61.000000</td>\n",
       "      <td>1.000000</td>\n",
       "    </tr>\n",
       "    <tr>\n",
       "      <th>75%</th>\n",
       "      <td>116.500000</td>\n",
       "      <td>1.000000</td>\n",
       "      <td>50.000000</td>\n",
       "      <td>1.000000</td>\n",
       "      <td>2.000000</td>\n",
       "      <td>2.000000</td>\n",
       "      <td>2.000000</td>\n",
       "      <td>2.000000</td>\n",
       "      <td>2.000000</td>\n",
       "      <td>2.000000</td>\n",
       "      <td>...</td>\n",
       "      <td>2.00000</td>\n",
       "      <td>2.000000</td>\n",
       "      <td>2.000000</td>\n",
       "      <td>2.00000</td>\n",
       "      <td>1.500000</td>\n",
       "      <td>132.250000</td>\n",
       "      <td>100.50000</td>\n",
       "      <td>4.200000</td>\n",
       "      <td>76.250000</td>\n",
       "      <td>2.000000</td>\n",
       "    </tr>\n",
       "    <tr>\n",
       "      <th>max</th>\n",
       "      <td>155.000000</td>\n",
       "      <td>1.000000</td>\n",
       "      <td>78.000000</td>\n",
       "      <td>2.000000</td>\n",
       "      <td>2.000000</td>\n",
       "      <td>2.000000</td>\n",
       "      <td>2.000000</td>\n",
       "      <td>2.000000</td>\n",
       "      <td>2.000000</td>\n",
       "      <td>2.000000</td>\n",
       "      <td>...</td>\n",
       "      <td>2.00000</td>\n",
       "      <td>2.000000</td>\n",
       "      <td>2.000000</td>\n",
       "      <td>2.00000</td>\n",
       "      <td>8.000000</td>\n",
       "      <td>295.000000</td>\n",
       "      <td>648.00000</td>\n",
       "      <td>6.400000</td>\n",
       "      <td>100.000000</td>\n",
       "      <td>2.000000</td>\n",
       "    </tr>\n",
       "  </tbody>\n",
       "</table>\n",
       "<p>8 rows × 21 columns</p>\n",
       "</div>"
      ],
      "text/plain": [
       "               ID      target         age      gender     steroid  antivirals  \\\n",
       "count  155.000000  155.000000  155.000000  155.000000  154.000000  155.000000   \n",
       "mean    78.000000    0.793548   41.200000    1.103226    1.506494    1.845161   \n",
       "std     44.888751    0.406070   12.565878    0.305240    0.501589    0.362923   \n",
       "min      1.000000    0.000000    7.000000    1.000000    1.000000    1.000000   \n",
       "25%     39.500000    1.000000   32.000000    1.000000    1.000000    2.000000   \n",
       "50%     78.000000    1.000000   39.000000    1.000000    2.000000    2.000000   \n",
       "75%    116.500000    1.000000   50.000000    1.000000    2.000000    2.000000   \n",
       "max    155.000000    1.000000   78.000000    2.000000    2.000000    2.000000   \n",
       "\n",
       "          fatigue     malaise    anorexia    liverBig  ...     spleen  \\\n",
       "count  154.000000  154.000000  154.000000  145.000000  ...  150.00000   \n",
       "mean     1.350649    1.603896    1.792208    1.827586  ...    1.80000   \n",
       "std      0.478730    0.490682    0.407051    0.379049  ...    0.40134   \n",
       "min      1.000000    1.000000    1.000000    1.000000  ...    1.00000   \n",
       "25%      1.000000    1.000000    2.000000    2.000000  ...    2.00000   \n",
       "50%      1.000000    2.000000    2.000000    2.000000  ...    2.00000   \n",
       "75%      2.000000    2.000000    2.000000    2.000000  ...    2.00000   \n",
       "max      2.000000    2.000000    2.000000    2.000000  ...    2.00000   \n",
       "\n",
       "          spiders     ascites    varices        bili         alk       sgot  \\\n",
       "count  150.000000  150.000000  150.00000  149.000000  126.000000  151.00000   \n",
       "mean     1.660000    1.866667    1.88000    1.427517  105.325397   85.89404   \n",
       "std      0.475296    0.341073    0.32605    1.212149   51.508109   89.65089   \n",
       "min      1.000000    1.000000    1.00000    0.300000   26.000000   14.00000   \n",
       "25%      1.000000    2.000000    2.00000    0.700000   74.250000   31.50000   \n",
       "50%      2.000000    2.000000    2.00000    1.000000   85.000000   58.00000   \n",
       "75%      2.000000    2.000000    2.00000    1.500000  132.250000  100.50000   \n",
       "max      2.000000    2.000000    2.00000    8.000000  295.000000  648.00000   \n",
       "\n",
       "             albu     protime   histology  \n",
       "count  139.000000   88.000000  155.000000  \n",
       "mean     3.817266   61.852273    1.451613  \n",
       "std      0.651523   22.875244    0.499266  \n",
       "min      2.100000    0.000000    1.000000  \n",
       "25%      3.400000   46.000000    1.000000  \n",
       "50%      4.000000   61.000000    1.000000  \n",
       "75%      4.200000   76.250000    2.000000  \n",
       "max      6.400000  100.000000    2.000000  \n",
       "\n",
       "[8 rows x 21 columns]"
      ]
     },
     "execution_count": 8,
     "metadata": {},
     "output_type": "execute_result"
    }
   ],
   "source": [
    "data.describe(include= \"all\")"
   ]
  },
  {
   "cell_type": "markdown",
   "metadata": {},
   "source": [
    "##### 6. Check the number of unique levels in each attribute"
   ]
  },
  {
   "cell_type": "code",
   "execution_count": 9,
   "metadata": {
    "ExecuteTime": {
     "end_time": "2022-06-23T13:48:49.477111Z",
     "start_time": "2022-06-23T13:48:49.455742Z"
    }
   },
   "outputs": [
    {
     "data": {
      "text/plain": [
       "ID            155\n",
       "target          2\n",
       "age            49\n",
       "gender          2\n",
       "steroid         2\n",
       "antivirals      2\n",
       "fatigue         2\n",
       "malaise         2\n",
       "anorexia        2\n",
       "liverBig        2\n",
       "liverFirm       2\n",
       "spleen          2\n",
       "spiders         2\n",
       "ascites         2\n",
       "varices         2\n",
       "bili           34\n",
       "alk            83\n",
       "sgot           84\n",
       "albu           29\n",
       "protime        44\n",
       "histology       2\n",
       "dtype: int64"
      ]
     },
     "execution_count": 9,
     "metadata": {},
     "output_type": "execute_result"
    }
   ],
   "source": [
    "data.nunique()"
   ]
  },
  {
   "cell_type": "markdown",
   "metadata": {},
   "source": [
    "### Target attribute distribution"
   ]
  },
  {
   "cell_type": "markdown",
   "metadata": {},
   "source": [
    "##### 7. Check for value counts in target variable"
   ]
  },
  {
   "cell_type": "code",
   "execution_count": 10,
   "metadata": {
    "ExecuteTime": {
     "end_time": "2022-06-23T13:49:41.877141Z",
     "start_time": "2022-06-23T13:49:41.856350Z"
    },
    "scrolled": true
   },
   "outputs": [
    {
     "data": {
      "text/plain": [
       "1    123\n",
       "0     32\n",
       "Name: target, dtype: int64"
      ]
     },
     "execution_count": 10,
     "metadata": {},
     "output_type": "execute_result"
    }
   ],
   "source": [
    "data.target.value_counts()"
   ]
  },
  {
   "cell_type": "markdown",
   "metadata": {},
   "source": [
    "##### 8. Check for distribution of values in target variable"
   ]
  },
  {
   "cell_type": "code",
   "execution_count": 12,
   "metadata": {
    "ExecuteTime": {
     "end_time": "2022-06-23T13:49:59.117341Z",
     "start_time": "2022-06-23T13:49:58.810522Z"
    }
   },
   "outputs": [
    {
     "data": {
      "text/plain": [
       "1    0.793548\n",
       "0    0.206452\n",
       "Name: target, dtype: float64"
      ]
     },
     "execution_count": 12,
     "metadata": {},
     "output_type": "execute_result"
    }
   ],
   "source": [
    "data.target.value_counts(normalize=True)"
   ]
  },
  {
   "cell_type": "code",
   "execution_count": 16,
   "metadata": {
    "ExecuteTime": {
     "end_time": "2022-06-23T13:54:32.930196Z",
     "start_time": "2022-06-23T13:54:32.713816Z"
    }
   },
   "outputs": [
    {
     "data": {
      "image/png": "[encoded data removed]",
      "text/plain": [
       "<Figure size 432x288 with 1 Axes>"
      ]
     },
     "metadata": {
      "needs_background": "light"
     },
     "output_type": "display_data"
    }
   ],
   "source": [
    "import seaborn as sns\n",
    "import matplotlib.pyplot as plt\n",
    "\n",
    "y_count=sns.countplot(x='target',data=data)        \n",
    "# Shows the count of observations in each categorical bin using bars\n",
    "\n",
    "for p in y_count.patches:\n",
    "    height = p.get_height()\n",
    "    # Add text to the axes\n",
    "    y_count.text(p.get_x()+p.get_width()/2, height + 1, height)\n",
    "# The y_count.text method takes an x position, a y position and a string\n",
    "\n",
    "plt.show()"
   ]
  },
  {
   "cell_type": "code",
   "execution_count": 14,
   "metadata": {
    "ExecuteTime": {
     "end_time": "2022-06-23T13:53:01.818430Z",
     "start_time": "2022-06-23T13:53:01.586943Z"
    }
   },
   "outputs": [
    {
     "data": {
      "text/plain": [
       "<matplotlib.axes._subplots.AxesSubplot at 0x1277dd278>"
      ]
     },
     "execution_count": 14,
     "metadata": {},
     "output_type": "execute_result"
    },
    {
     "data": {
      "image/png": "[encoded data removed]",
      "text/plain": [
       "<Figure size 432x288 with 1 Axes>"
      ]
     },
     "metadata": {
      "needs_background": "light"
     },
     "output_type": "display_data"
    }
   ],
   "source": [
    "sns.countplot(x='target',data=data) "
   ]
  },
  {
   "cell_type": "markdown",
   "metadata": {},
   "source": [
    "## _Data Pre-processing_"
   ]
  },
  {
   "cell_type": "markdown",
   "metadata": {},
   "source": [
    "##### 9. Drop column(s) which are not significant"
   ]
  },
  {
   "cell_type": "code",
   "execution_count": 17,
   "metadata": {
    "ExecuteTime": {
     "end_time": "2022-06-23T14:01:09.529090Z",
     "start_time": "2022-06-23T14:01:09.520930Z"
    }
   },
   "outputs": [],
   "source": [
    "data.drop(['ID'] , axis = 1 , inplace=True)"
   ]
  },
  {
   "cell_type": "markdown",
   "metadata": {},
   "source": [
    "##### 10. Check for top 5 rows"
   ]
  },
  {
   "cell_type": "code",
   "execution_count": 18,
   "metadata": {
    "ExecuteTime": {
     "end_time": "2022-06-23T14:01:14.371589Z",
     "start_time": "2022-06-23T14:01:14.325840Z"
    }
   },
   "outputs": [
    {
     "name": "stdout",
     "output_type": "stream",
     "text": [
      "(155, 20)\n"
     ]
    },
    {
     "data": {
      "text/html": [
       "<div>\n",
       "<style scoped>\n",
       "    .dataframe tbody tr th:only-of-type {\n",
       "        vertical-align: middle;\n",
       "    }\n",
       "\n",
       "    .dataframe tbody tr th {\n",
       "        vertical-align: top;\n",
       "    }\n",
       "\n",
       "    .dataframe thead th {\n",
       "        text-align: right;\n",
       "    }\n",
       "</style>\n",
       "<table border=\"1\" class=\"dataframe\">\n",
       "  <thead>\n",
       "    <tr style=\"text-align: right;\">\n",
       "      <th></th>\n",
       "      <th>target</th>\n",
       "      <th>age</th>\n",
       "      <th>gender</th>\n",
       "      <th>steroid</th>\n",
       "      <th>antivirals</th>\n",
       "      <th>fatigue</th>\n",
       "      <th>malaise</th>\n",
       "      <th>anorexia</th>\n",
       "      <th>liverBig</th>\n",
       "      <th>liverFirm</th>\n",
       "      <th>spleen</th>\n",
       "      <th>spiders</th>\n",
       "      <th>ascites</th>\n",
       "      <th>varices</th>\n",
       "      <th>bili</th>\n",
       "      <th>alk</th>\n",
       "      <th>sgot</th>\n",
       "      <th>albu</th>\n",
       "      <th>protime</th>\n",
       "      <th>histology</th>\n",
       "    </tr>\n",
       "  </thead>\n",
       "  <tbody>\n",
       "    <tr>\n",
       "      <th>0</th>\n",
       "      <td>1</td>\n",
       "      <td>30</td>\n",
       "      <td>2</td>\n",
       "      <td>1.0</td>\n",
       "      <td>2</td>\n",
       "      <td>2.0</td>\n",
       "      <td>2.0</td>\n",
       "      <td>2.0</td>\n",
       "      <td>1.0</td>\n",
       "      <td>2.0</td>\n",
       "      <td>2.0</td>\n",
       "      <td>2.0</td>\n",
       "      <td>2.0</td>\n",
       "      <td>2.0</td>\n",
       "      <td>1.0</td>\n",
       "      <td>85.0</td>\n",
       "      <td>18.0</td>\n",
       "      <td>4.0</td>\n",
       "      <td>NaN</td>\n",
       "      <td>1</td>\n",
       "    </tr>\n",
       "    <tr>\n",
       "      <th>1</th>\n",
       "      <td>1</td>\n",
       "      <td>50</td>\n",
       "      <td>1</td>\n",
       "      <td>1.0</td>\n",
       "      <td>2</td>\n",
       "      <td>1.0</td>\n",
       "      <td>2.0</td>\n",
       "      <td>2.0</td>\n",
       "      <td>1.0</td>\n",
       "      <td>2.0</td>\n",
       "      <td>2.0</td>\n",
       "      <td>2.0</td>\n",
       "      <td>2.0</td>\n",
       "      <td>2.0</td>\n",
       "      <td>0.9</td>\n",
       "      <td>135.0</td>\n",
       "      <td>42.0</td>\n",
       "      <td>3.5</td>\n",
       "      <td>NaN</td>\n",
       "      <td>1</td>\n",
       "    </tr>\n",
       "    <tr>\n",
       "      <th>2</th>\n",
       "      <td>1</td>\n",
       "      <td>78</td>\n",
       "      <td>1</td>\n",
       "      <td>2.0</td>\n",
       "      <td>2</td>\n",
       "      <td>1.0</td>\n",
       "      <td>2.0</td>\n",
       "      <td>2.0</td>\n",
       "      <td>2.0</td>\n",
       "      <td>2.0</td>\n",
       "      <td>2.0</td>\n",
       "      <td>2.0</td>\n",
       "      <td>2.0</td>\n",
       "      <td>2.0</td>\n",
       "      <td>0.7</td>\n",
       "      <td>96.0</td>\n",
       "      <td>32.0</td>\n",
       "      <td>4.0</td>\n",
       "      <td>NaN</td>\n",
       "      <td>1</td>\n",
       "    </tr>\n",
       "    <tr>\n",
       "      <th>3</th>\n",
       "      <td>1</td>\n",
       "      <td>31</td>\n",
       "      <td>1</td>\n",
       "      <td>NaN</td>\n",
       "      <td>1</td>\n",
       "      <td>2.0</td>\n",
       "      <td>2.0</td>\n",
       "      <td>2.0</td>\n",
       "      <td>2.0</td>\n",
       "      <td>2.0</td>\n",
       "      <td>2.0</td>\n",
       "      <td>2.0</td>\n",
       "      <td>2.0</td>\n",
       "      <td>2.0</td>\n",
       "      <td>0.7</td>\n",
       "      <td>46.0</td>\n",
       "      <td>52.0</td>\n",
       "      <td>4.0</td>\n",
       "      <td>80.0</td>\n",
       "      <td>1</td>\n",
       "    </tr>\n",
       "    <tr>\n",
       "      <th>4</th>\n",
       "      <td>1</td>\n",
       "      <td>34</td>\n",
       "      <td>1</td>\n",
       "      <td>2.0</td>\n",
       "      <td>2</td>\n",
       "      <td>2.0</td>\n",
       "      <td>2.0</td>\n",
       "      <td>2.0</td>\n",
       "      <td>2.0</td>\n",
       "      <td>2.0</td>\n",
       "      <td>2.0</td>\n",
       "      <td>2.0</td>\n",
       "      <td>2.0</td>\n",
       "      <td>2.0</td>\n",
       "      <td>1.0</td>\n",
       "      <td>NaN</td>\n",
       "      <td>200.0</td>\n",
       "      <td>4.0</td>\n",
       "      <td>NaN</td>\n",
       "      <td>1</td>\n",
       "    </tr>\n",
       "  </tbody>\n",
       "</table>\n",
       "</div>"
      ],
      "text/plain": [
       "   target  age  gender  steroid  antivirals  fatigue  malaise  anorexia  \\\n",
       "0       1   30       2      1.0           2      2.0      2.0       2.0   \n",
       "1       1   50       1      1.0           2      1.0      2.0       2.0   \n",
       "2       1   78       1      2.0           2      1.0      2.0       2.0   \n",
       "3       1   31       1      NaN           1      2.0      2.0       2.0   \n",
       "4       1   34       1      2.0           2      2.0      2.0       2.0   \n",
       "\n",
       "   liverBig  liverFirm  spleen  spiders  ascites  varices  bili    alk   sgot  \\\n",
       "0       1.0        2.0     2.0      2.0      2.0      2.0   1.0   85.0   18.0   \n",
       "1       1.0        2.0     2.0      2.0      2.0      2.0   0.9  135.0   42.0   \n",
       "2       2.0        2.0     2.0      2.0      2.0      2.0   0.7   96.0   32.0   \n",
       "3       2.0        2.0     2.0      2.0      2.0      2.0   0.7   46.0   52.0   \n",
       "4       2.0        2.0     2.0      2.0      2.0      2.0   1.0    NaN  200.0   \n",
       "\n",
       "   albu  protime  histology  \n",
       "0   4.0      NaN          1  \n",
       "1   3.5      NaN          1  \n",
       "2   4.0      NaN          1  \n",
       "3   4.0     80.0          1  \n",
       "4   4.0      NaN          1  "
      ]
     },
     "execution_count": 18,
     "metadata": {},
     "output_type": "execute_result"
    }
   ],
   "source": [
    "print(data.shape)\n",
    "data.head()"
   ]
  },
  {
   "cell_type": "markdown",
   "metadata": {},
   "source": [
    "##### 11. Identify the Categorical Columns and store them in a variable cat_cols and numerical into num_cols"
   ]
  },
  {
   "cell_type": "code",
   "execution_count": 19,
   "metadata": {
    "ExecuteTime": {
     "end_time": "2022-06-23T14:01:24.737099Z",
     "start_time": "2022-06-23T14:01:24.729690Z"
    }
   },
   "outputs": [],
   "source": [
    "num_cols = [\"age\", \"bili\", \"alk\", \"sgot\", \"protime\"]\n",
    "cat_cols = ['gender', 'steroid', 'antivirals', 'fatigue', 'malaise', 'anorexia', 'liverBig', \n",
    "            'liverFirm', 'spleen', 'spiders', 'ascites', 'varices', 'histology']"
   ]
  },
  {
   "cell_type": "markdown",
   "metadata": {},
   "source": [
    "##### 12. Convert all the categorical columns to appropriate data type "
   ]
  },
  {
   "cell_type": "code",
   "execution_count": 20,
   "metadata": {
    "ExecuteTime": {
     "end_time": "2022-06-23T14:02:16.236132Z",
     "start_time": "2022-06-23T14:02:16.201316Z"
    }
   },
   "outputs": [],
   "source": [
    "data[cat_cols] = data[cat_cols].astype(\"category\")"
   ]
  },
  {
   "cell_type": "code",
   "execution_count": 21,
   "metadata": {
    "ExecuteTime": {
     "end_time": "2022-06-23T14:02:16.746213Z",
     "start_time": "2022-06-23T14:02:16.732629Z"
    }
   },
   "outputs": [
    {
     "data": {
      "text/plain": [
       "target           int64\n",
       "age              int64\n",
       "gender        category\n",
       "steroid       category\n",
       "antivirals    category\n",
       "fatigue       category\n",
       "malaise       category\n",
       "anorexia      category\n",
       "liverBig      category\n",
       "liverFirm     category\n",
       "spleen        category\n",
       "spiders       category\n",
       "ascites       category\n",
       "varices       category\n",
       "bili           float64\n",
       "alk            float64\n",
       "sgot           float64\n",
       "albu           float64\n",
       "protime        float64\n",
       "histology     category\n",
       "dtype: object"
      ]
     },
     "execution_count": 21,
     "metadata": {},
     "output_type": "execute_result"
    }
   ],
   "source": [
    "data.dtypes"
   ]
  },
  {
   "cell_type": "markdown",
   "metadata": {},
   "source": [
    "##### 14. Split the data into X and y"
   ]
  },
  {
   "cell_type": "code",
   "execution_count": 22,
   "metadata": {
    "ExecuteTime": {
     "end_time": "2022-06-23T14:03:17.507421Z",
     "start_time": "2022-06-23T14:03:17.494653Z"
    }
   },
   "outputs": [],
   "source": [
    "X = data.drop(['target'] , axis = 1)"
   ]
  },
  {
   "cell_type": "code",
   "execution_count": 23,
   "metadata": {
    "ExecuteTime": {
     "end_time": "2022-06-23T14:03:18.287939Z",
     "start_time": "2022-06-23T14:03:18.283647Z"
    }
   },
   "outputs": [],
   "source": [
    "y = data[\"target\"]"
   ]
  },
  {
   "cell_type": "code",
   "execution_count": 24,
   "metadata": {
    "ExecuteTime": {
     "end_time": "2022-06-23T14:03:18.938947Z",
     "start_time": "2022-06-23T14:03:18.932761Z"
    }
   },
   "outputs": [
    {
     "name": "stdout",
     "output_type": "stream",
     "text": [
      "(155, 19) (155,)\n"
     ]
    }
   ],
   "source": [
    "print(X.shape, y.shape)"
   ]
  },
  {
   "cell_type": "markdown",
   "metadata": {},
   "source": [
    "##### 15. Split the data into X_train, X_test, y_train, y_test with test_size = 0.20"
   ]
  },
  {
   "cell_type": "code",
   "execution_count": 35,
   "metadata": {
    "ExecuteTime": {
     "end_time": "2022-06-23T14:07:20.775181Z",
     "start_time": "2022-06-23T14:07:20.757774Z"
    }
   },
   "outputs": [],
   "source": [
    "X_train, X_test, y_train, y_test = train_test_split(X,y,test_size=.2,\n",
    "                                                    random_state=12345,stratify= y)"
   ]
  },
  {
   "cell_type": "markdown",
   "metadata": {},
   "source": [
    "##### 16. Print the shape of X_train, X_test, y_train, y_test"
   ]
  },
  {
   "cell_type": "code",
   "execution_count": 36,
   "metadata": {
    "ExecuteTime": {
     "end_time": "2022-06-23T14:07:21.623073Z",
     "start_time": "2022-06-23T14:07:21.608310Z"
    }
   },
   "outputs": [
    {
     "name": "stdout",
     "output_type": "stream",
     "text": [
      "(124, 19)\n",
      "(31, 19)\n",
      "(124,)\n",
      "(31,)\n"
     ]
    }
   ],
   "source": [
    "print(X_train.shape)\n",
    "print(X_test.shape)\n",
    "print(y_train.shape)\n",
    "print(y_test.shape)"
   ]
  },
  {
   "cell_type": "markdown",
   "metadata": {},
   "source": [
    "##### 17. Check for distribution of target values in y_train"
   ]
  },
  {
   "cell_type": "code",
   "execution_count": 37,
   "metadata": {
    "ExecuteTime": {
     "end_time": "2022-06-23T14:07:22.177154Z",
     "start_time": "2022-06-23T14:07:22.169237Z"
    }
   },
   "outputs": [
    {
     "name": "stdout",
     "output_type": "stream",
     "text": [
      "1    98\n",
      "0    26\n",
      "Name: target, dtype: int64\n"
     ]
    }
   ],
   "source": [
    "print(y_train.value_counts())"
   ]
  },
  {
   "cell_type": "code",
   "execution_count": 38,
   "metadata": {
    "ExecuteTime": {
     "end_time": "2022-06-23T14:07:22.435182Z",
     "start_time": "2022-06-23T14:07:22.424239Z"
    },
    "scrolled": true
   },
   "outputs": [
    {
     "name": "stdout",
     "output_type": "stream",
     "text": [
      "1    79.032258\n",
      "0    20.967742\n",
      "Name: target, dtype: float64\n"
     ]
    }
   ],
   "source": [
    "print(y_train.value_counts(normalize=True)*100)"
   ]
  },
  {
   "cell_type": "markdown",
   "metadata": {},
   "source": [
    "##### 18. Check for distribution of target values in y_test"
   ]
  },
  {
   "cell_type": "code",
   "execution_count": 39,
   "metadata": {
    "ExecuteTime": {
     "end_time": "2022-06-23T14:07:24.228476Z",
     "start_time": "2022-06-23T14:07:24.208851Z"
    }
   },
   "outputs": [
    {
     "name": "stdout",
     "output_type": "stream",
     "text": [
      "1    80.645161\n",
      "0    19.354839\n",
      "Name: target, dtype: float64\n"
     ]
    }
   ],
   "source": [
    "print(y_test.value_counts(normalize=True)*100)"
   ]
  },
  {
   "cell_type": "markdown",
   "metadata": {},
   "source": [
    "### Handling Missing Data"
   ]
  },
  {
   "cell_type": "markdown",
   "metadata": {},
   "source": [
    "##### 19. Check null values in train and test"
   ]
  },
  {
   "cell_type": "code",
   "execution_count": 40,
   "metadata": {
    "ExecuteTime": {
     "end_time": "2022-06-23T14:07:57.964593Z",
     "start_time": "2022-06-23T14:07:57.950031Z"
    }
   },
   "outputs": [
    {
     "data": {
      "text/plain": [
       "age            0\n",
       "gender         0\n",
       "steroid        0\n",
       "antivirals     0\n",
       "fatigue        1\n",
       "malaise        1\n",
       "anorexia       1\n",
       "liverBig       7\n",
       "liverFirm      8\n",
       "spleen         4\n",
       "spiders        4\n",
       "ascites        4\n",
       "varices        4\n",
       "bili           6\n",
       "alk           25\n",
       "sgot           4\n",
       "albu          14\n",
       "protime       56\n",
       "histology      0\n",
       "dtype: int64"
      ]
     },
     "execution_count": 40,
     "metadata": {},
     "output_type": "execute_result"
    }
   ],
   "source": [
    "# null values in train\n",
    "X_train.isnull().sum()"
   ]
  },
  {
   "cell_type": "code",
   "execution_count": 41,
   "metadata": {
    "ExecuteTime": {
     "end_time": "2022-06-23T14:08:21.231012Z",
     "start_time": "2022-06-23T14:08:21.218281Z"
    }
   },
   "outputs": [
    {
     "data": {
      "text/plain": [
       "age            0\n",
       "gender         0\n",
       "steroid        1\n",
       "antivirals     0\n",
       "fatigue        0\n",
       "malaise        0\n",
       "anorexia       0\n",
       "liverBig       3\n",
       "liverFirm      3\n",
       "spleen         1\n",
       "spiders        1\n",
       "ascites        1\n",
       "varices        1\n",
       "bili           0\n",
       "alk            4\n",
       "sgot           0\n",
       "albu           2\n",
       "protime       11\n",
       "histology      0\n",
       "dtype: int64"
      ]
     },
     "execution_count": 41,
     "metadata": {},
     "output_type": "execute_result"
    }
   ],
   "source": [
    "# null values in test\n",
    "X_test.isnull().sum()"
   ]
  },
  {
   "cell_type": "markdown",
   "metadata": {},
   "source": [
    "### Missing value Imputation"
   ]
  },
  {
   "cell_type": "markdown",
   "metadata": {},
   "source": [
    "##### 20. Impute the Categorical Columns with mode and Numerical columns with median"
   ]
  },
  {
   "cell_type": "code",
   "execution_count": 42,
   "metadata": {
    "ExecuteTime": {
     "end_time": "2022-06-23T14:13:04.951848Z",
     "start_time": "2022-06-23T14:13:04.940571Z"
    }
   },
   "outputs": [],
   "source": [
    "df_cat_train = X_train[cat_cols]\n",
    "df_cat_test = X_test[cat_cols]"
   ]
  },
  {
   "cell_type": "code",
   "execution_count": 43,
   "metadata": {
    "ExecuteTime": {
     "end_time": "2022-06-23T14:14:38.609661Z",
     "start_time": "2022-06-23T14:14:38.575606Z"
    }
   },
   "outputs": [
    {
     "data": {
      "text/plain": [
       "SimpleImputer(strategy='most_frequent')"
      ]
     },
     "execution_count": 43,
     "metadata": {},
     "output_type": "execute_result"
    }
   ],
   "source": [
    "from sklearn.impute import SimpleImputer\n",
    "cat_imputer = SimpleImputer(strategy = \"most_frequent\")  ##Mode\n",
    "cat_imputer.fit(df_cat_train)"
   ]
  },
  {
   "cell_type": "code",
   "execution_count": 44,
   "metadata": {
    "ExecuteTime": {
     "end_time": "2022-06-23T14:15:05.876969Z",
     "start_time": "2022-06-23T14:15:05.860814Z"
    }
   },
   "outputs": [],
   "source": [
    "df_cat_train = pd.DataFrame(cat_imputer.transform(df_cat_train), columns=cat_cols)"
   ]
  },
  {
   "cell_type": "code",
   "execution_count": 45,
   "metadata": {
    "ExecuteTime": {
     "end_time": "2022-06-23T14:15:06.839592Z",
     "start_time": "2022-06-23T14:15:06.822012Z"
    }
   },
   "outputs": [],
   "source": [
    "df_cat_test = pd.DataFrame(cat_imputer.transform(df_cat_test), columns=cat_cols)"
   ]
  },
  {
   "cell_type": "code",
   "execution_count": 46,
   "metadata": {
    "ExecuteTime": {
     "end_time": "2022-06-23T14:15:11.750374Z",
     "start_time": "2022-06-23T14:15:11.742687Z"
    }
   },
   "outputs": [],
   "source": [
    "df_num_train = X_train[num_cols]\n",
    "df_num_test = X_test[num_cols]"
   ]
  },
  {
   "cell_type": "code",
   "execution_count": 47,
   "metadata": {
    "ExecuteTime": {
     "end_time": "2022-06-23T14:15:53.571367Z",
     "start_time": "2022-06-23T14:15:53.554615Z"
    }
   },
   "outputs": [
    {
     "data": {
      "text/plain": [
       "SimpleImputer(strategy='median')"
      ]
     },
     "execution_count": 47,
     "metadata": {},
     "output_type": "execute_result"
    }
   ],
   "source": [
    "num_imputer = SimpleImputer(strategy =\"median\")\n",
    "num_imputer.fit(df_num_train)"
   ]
  },
  {
   "cell_type": "code",
   "execution_count": 48,
   "metadata": {
    "ExecuteTime": {
     "end_time": "2022-06-23T14:16:06.440517Z",
     "start_time": "2022-06-23T14:16:06.425025Z"
    }
   },
   "outputs": [],
   "source": [
    "df_num_train = pd.DataFrame (num_imputer.transform(df_num_train), columns= num_cols)"
   ]
  },
  {
   "cell_type": "code",
   "execution_count": 49,
   "metadata": {
    "ExecuteTime": {
     "end_time": "2022-06-23T14:16:20.419393Z",
     "start_time": "2022-06-23T14:16:20.400775Z"
    }
   },
   "outputs": [],
   "source": [
    "df_num_test =  pd.DataFrame(num_imputer.transform(df_num_test), columns=num_cols)"
   ]
  },
  {
   "cell_type": "code",
   "execution_count": 50,
   "metadata": {
    "ExecuteTime": {
     "end_time": "2022-06-23T14:16:55.033938Z",
     "start_time": "2022-06-23T14:16:55.011673Z"
    }
   },
   "outputs": [],
   "source": [
    "# Combine numeric and categorical in train\n",
    "X_train = pd.concat([df_num_train, df_cat_train], axis = 1)\n",
    "\n",
    "# Combine numeric and categorical in test\n",
    "X_test = pd.concat([df_num_test, df_cat_test], axis = 1)"
   ]
  },
  {
   "cell_type": "code",
   "execution_count": 51,
   "metadata": {
    "ExecuteTime": {
     "end_time": "2022-06-23T14:16:56.351014Z",
     "start_time": "2022-06-23T14:16:56.338614Z"
    }
   },
   "outputs": [
    {
     "data": {
      "text/plain": [
       "age           0\n",
       "bili          0\n",
       "alk           0\n",
       "sgot          0\n",
       "protime       0\n",
       "gender        0\n",
       "steroid       0\n",
       "antivirals    0\n",
       "fatigue       0\n",
       "malaise       0\n",
       "anorexia      0\n",
       "liverBig      0\n",
       "liverFirm     0\n",
       "spleen        0\n",
       "spiders       0\n",
       "ascites       0\n",
       "varices       0\n",
       "histology     0\n",
       "dtype: int64"
      ]
     },
     "execution_count": 51,
     "metadata": {},
     "output_type": "execute_result"
    }
   ],
   "source": [
    "X_train.isna().sum()"
   ]
  },
  {
   "cell_type": "code",
   "execution_count": 52,
   "metadata": {
    "ExecuteTime": {
     "end_time": "2022-06-23T14:16:56.774540Z",
     "start_time": "2022-06-23T14:16:56.761412Z"
    }
   },
   "outputs": [
    {
     "data": {
      "text/plain": [
       "age           0\n",
       "bili          0\n",
       "alk           0\n",
       "sgot          0\n",
       "protime       0\n",
       "gender        0\n",
       "steroid       0\n",
       "antivirals    0\n",
       "fatigue       0\n",
       "malaise       0\n",
       "anorexia      0\n",
       "liverBig      0\n",
       "liverFirm     0\n",
       "spleen        0\n",
       "spiders       0\n",
       "ascites       0\n",
       "varices       0\n",
       "histology     0\n",
       "dtype: int64"
      ]
     },
     "execution_count": 52,
     "metadata": {},
     "output_type": "execute_result"
    }
   ],
   "source": [
    "X_test.isna().sum()"
   ]
  },
  {
   "cell_type": "markdown",
   "metadata": {},
   "source": [
    "### Encoding Categorical to Numeric -  Dummification\n",
    "\n",
    "    'pandas.get_dummies' To convert convert categorical variable into dummy/indicator variables"
   ]
  },
  {
   "cell_type": "markdown",
   "metadata": {},
   "source": [
    "#### 21. Dummify the Categorical columns"
   ]
  },
  {
   "cell_type": "markdown",
   "metadata": {},
   "source": [
    "Creating dummy variables -\n",
    "\n",
    "    If we have k levels in a category, then we create k-1 dummy variables as the last one would be redundant. So we use the parameter drop_first in pd.get_dummies function that drops the first level in each of the category"
   ]
  },
  {
   "cell_type": "code",
   "execution_count": 53,
   "metadata": {
    "ExecuteTime": {
     "end_time": "2022-06-23T14:17:51.752086Z",
     "start_time": "2022-06-23T14:17:51.697076Z"
    }
   },
   "outputs": [],
   "source": [
    "## Convert Categorical Columns to Dummies\n",
    "# Train\n",
    "X_train = pd.get_dummies(X_train, columns=cat_cols,drop_first=True)\n",
    "\n",
    "# Test\n",
    "X_test = pd.get_dummies(X_test, columns=cat_cols,drop_first=True)"
   ]
  },
  {
   "cell_type": "code",
   "execution_count": 54,
   "metadata": {
    "ExecuteTime": {
     "end_time": "2022-06-23T14:17:53.570870Z",
     "start_time": "2022-06-23T14:17:53.559463Z"
    }
   },
   "outputs": [
    {
     "data": {
      "text/plain": [
       "Index(['age', 'bili', 'alk', 'sgot', 'protime', 'gender_2.0', 'steroid_2.0',\n",
       "       'antivirals_2.0', 'fatigue_2.0', 'malaise_2.0', 'anorexia_2.0',\n",
       "       'liverBig_2.0', 'liverFirm_2.0', 'spleen_2.0', 'spiders_2.0',\n",
       "       'ascites_2.0', 'varices_2.0', 'histology_2.0'],\n",
       "      dtype='object')"
      ]
     },
     "execution_count": 54,
     "metadata": {},
     "output_type": "execute_result"
    }
   ],
   "source": [
    "X_train.columns"
   ]
  },
  {
   "cell_type": "code",
   "execution_count": 55,
   "metadata": {
    "ExecuteTime": {
     "end_time": "2022-06-23T14:17:54.454367Z",
     "start_time": "2022-06-23T14:17:54.434813Z"
    }
   },
   "outputs": [
    {
     "data": {
      "text/plain": [
       "Index(['age', 'bili', 'alk', 'sgot', 'protime', 'gender_2.0', 'steroid_2.0',\n",
       "       'antivirals_2.0', 'fatigue_2.0', 'malaise_2.0', 'anorexia_2.0',\n",
       "       'liverBig_2.0', 'liverFirm_2.0', 'spleen_2.0', 'spiders_2.0',\n",
       "       'ascites_2.0', 'varices_2.0', 'histology_2.0'],\n",
       "      dtype='object')"
      ]
     },
     "execution_count": 55,
     "metadata": {},
     "output_type": "execute_result"
    }
   ],
   "source": [
    "X_test.columns"
   ]
  },
  {
   "cell_type": "markdown",
   "metadata": {},
   "source": [
    "#### 22. Scale the numeric attributes [\"age\", \"bili\", \"alk\", \"sgot\", \"albu\", \"protime\"]"
   ]
  },
  {
   "cell_type": "code",
   "execution_count": 56,
   "metadata": {
    "ExecuteTime": {
     "end_time": "2022-06-23T14:19:31.809976Z",
     "start_time": "2022-06-23T14:19:31.783915Z"
    }
   },
   "outputs": [],
   "source": [
    "#num_cols = [\"age\", \"bili\", \"alk\", \"sgot\", \"albu\", \"protime\"]\n",
    "scaler = StandardScaler()\n",
    "\n",
    "scaler.fit(X_train[num_cols])\n",
    "\n",
    "# scale on train\n",
    "X_train[num_cols] =scaler.transform(X_train[num_cols])\n",
    "\n",
    "# scale on test\n",
    "X_test[num_cols] = scaler.transform(X_test[num_cols])\n",
    "\n"
   ]
  },
  {
   "cell_type": "code",
   "execution_count": 57,
   "metadata": {
    "ExecuteTime": {
     "end_time": "2022-06-23T14:19:36.810457Z",
     "start_time": "2022-06-23T14:19:36.766800Z"
    }
   },
   "outputs": [
    {
     "data": {
      "text/html": [
       "<div>\n",
       "<style scoped>\n",
       "    .dataframe tbody tr th:only-of-type {\n",
       "        vertical-align: middle;\n",
       "    }\n",
       "\n",
       "    .dataframe tbody tr th {\n",
       "        vertical-align: top;\n",
       "    }\n",
       "\n",
       "    .dataframe thead th {\n",
       "        text-align: right;\n",
       "    }\n",
       "</style>\n",
       "<table border=\"1\" class=\"dataframe\">\n",
       "  <thead>\n",
       "    <tr style=\"text-align: right;\">\n",
       "      <th></th>\n",
       "      <th>age</th>\n",
       "      <th>bili</th>\n",
       "      <th>alk</th>\n",
       "      <th>sgot</th>\n",
       "      <th>protime</th>\n",
       "      <th>gender_2.0</th>\n",
       "      <th>steroid_2.0</th>\n",
       "      <th>antivirals_2.0</th>\n",
       "      <th>fatigue_2.0</th>\n",
       "      <th>malaise_2.0</th>\n",
       "      <th>anorexia_2.0</th>\n",
       "      <th>liverBig_2.0</th>\n",
       "      <th>liverFirm_2.0</th>\n",
       "      <th>spleen_2.0</th>\n",
       "      <th>spiders_2.0</th>\n",
       "      <th>ascites_2.0</th>\n",
       "      <th>varices_2.0</th>\n",
       "      <th>histology_2.0</th>\n",
       "    </tr>\n",
       "  </thead>\n",
       "  <tbody>\n",
       "    <tr>\n",
       "      <th>0</th>\n",
       "      <td>-0.275049</td>\n",
       "      <td>-0.562549</td>\n",
       "      <td>0.650444</td>\n",
       "      <td>-0.182842</td>\n",
       "      <td>0.914697</td>\n",
       "      <td>0</td>\n",
       "      <td>1</td>\n",
       "      <td>0</td>\n",
       "      <td>0</td>\n",
       "      <td>0</td>\n",
       "      <td>0</td>\n",
       "      <td>1</td>\n",
       "      <td>1</td>\n",
       "      <td>1</td>\n",
       "      <td>0</td>\n",
       "      <td>1</td>\n",
       "      <td>1</td>\n",
       "      <td>0</td>\n",
       "    </tr>\n",
       "    <tr>\n",
       "      <th>1</th>\n",
       "      <td>0.440463</td>\n",
       "      <td>0.222992</td>\n",
       "      <td>-0.288805</td>\n",
       "      <td>-0.716728</td>\n",
       "      <td>-0.864704</td>\n",
       "      <td>0</td>\n",
       "      <td>1</td>\n",
       "      <td>1</td>\n",
       "      <td>0</td>\n",
       "      <td>0</td>\n",
       "      <td>1</td>\n",
       "      <td>1</td>\n",
       "      <td>0</td>\n",
       "      <td>1</td>\n",
       "      <td>1</td>\n",
       "      <td>0</td>\n",
       "      <td>0</td>\n",
       "      <td>1</td>\n",
       "    </tr>\n",
       "    <tr>\n",
       "      <th>2</th>\n",
       "      <td>0.201959</td>\n",
       "      <td>-0.405441</td>\n",
       "      <td>0.891277</td>\n",
       "      <td>-0.301483</td>\n",
       "      <td>-1.151704</td>\n",
       "      <td>0</td>\n",
       "      <td>0</td>\n",
       "      <td>1</td>\n",
       "      <td>0</td>\n",
       "      <td>0</td>\n",
       "      <td>1</td>\n",
       "      <td>1</td>\n",
       "      <td>1</td>\n",
       "      <td>0</td>\n",
       "      <td>1</td>\n",
       "      <td>1</td>\n",
       "      <td>0</td>\n",
       "      <td>1</td>\n",
       "    </tr>\n",
       "    <tr>\n",
       "      <th>3</th>\n",
       "      <td>-1.070063</td>\n",
       "      <td>0.144438</td>\n",
       "      <td>-1.300304</td>\n",
       "      <td>0.505278</td>\n",
       "      <td>-0.864704</td>\n",
       "      <td>0</td>\n",
       "      <td>0</td>\n",
       "      <td>1</td>\n",
       "      <td>0</td>\n",
       "      <td>0</td>\n",
       "      <td>0</td>\n",
       "      <td>1</td>\n",
       "      <td>0</td>\n",
       "      <td>1</td>\n",
       "      <td>1</td>\n",
       "      <td>1</td>\n",
       "      <td>1</td>\n",
       "      <td>0</td>\n",
       "    </tr>\n",
       "    <tr>\n",
       "      <th>4</th>\n",
       "      <td>-1.070063</td>\n",
       "      <td>-0.326887</td>\n",
       "      <td>-0.312889</td>\n",
       "      <td>-0.716728</td>\n",
       "      <td>-0.003703</td>\n",
       "      <td>0</td>\n",
       "      <td>1</td>\n",
       "      <td>1</td>\n",
       "      <td>0</td>\n",
       "      <td>0</td>\n",
       "      <td>0</td>\n",
       "      <td>1</td>\n",
       "      <td>1</td>\n",
       "      <td>1</td>\n",
       "      <td>0</td>\n",
       "      <td>0</td>\n",
       "      <td>1</td>\n",
       "      <td>1</td>\n",
       "    </tr>\n",
       "  </tbody>\n",
       "</table>\n",
       "</div>"
      ],
      "text/plain": [
       "        age      bili       alk      sgot   protime  gender_2.0  steroid_2.0  \\\n",
       "0 -0.275049 -0.562549  0.650444 -0.182842  0.914697           0            1   \n",
       "1  0.440463  0.222992 -0.288805 -0.716728 -0.864704           0            1   \n",
       "2  0.201959 -0.405441  0.891277 -0.301483 -1.151704           0            0   \n",
       "3 -1.070063  0.144438 -1.300304  0.505278 -0.864704           0            0   \n",
       "4 -1.070063 -0.326887 -0.312889 -0.716728 -0.003703           0            1   \n",
       "\n",
       "   antivirals_2.0  fatigue_2.0  malaise_2.0  anorexia_2.0  liverBig_2.0  \\\n",
       "0               0            0            0             0             1   \n",
       "1               1            0            0             1             1   \n",
       "2               1            0            0             1             1   \n",
       "3               1            0            0             0             1   \n",
       "4               1            0            0             0             1   \n",
       "\n",
       "   liverFirm_2.0  spleen_2.0  spiders_2.0  ascites_2.0  varices_2.0  \\\n",
       "0              1           1            0            1            1   \n",
       "1              0           1            1            0            0   \n",
       "2              1           0            1            1            0   \n",
       "3              0           1            1            1            1   \n",
       "4              1           1            0            0            1   \n",
       "\n",
       "   histology_2.0  \n",
       "0              0  \n",
       "1              1  \n",
       "2              1  \n",
       "3              0  \n",
       "4              1  "
      ]
     },
     "execution_count": 57,
     "metadata": {},
     "output_type": "execute_result"
    }
   ],
   "source": [
    "X_train.head()"
   ]
  },
  {
   "cell_type": "code",
   "execution_count": 58,
   "metadata": {
    "ExecuteTime": {
     "end_time": "2022-06-23T14:20:02.573289Z",
     "start_time": "2022-06-23T14:20:02.545380Z"
    }
   },
   "outputs": [
    {
     "data": {
      "text/html": [
       "<div>\n",
       "<style scoped>\n",
       "    .dataframe tbody tr th:only-of-type {\n",
       "        vertical-align: middle;\n",
       "    }\n",
       "\n",
       "    .dataframe tbody tr th {\n",
       "        vertical-align: top;\n",
       "    }\n",
       "\n",
       "    .dataframe thead th {\n",
       "        text-align: right;\n",
       "    }\n",
       "</style>\n",
       "<table border=\"1\" class=\"dataframe\">\n",
       "  <thead>\n",
       "    <tr style=\"text-align: right;\">\n",
       "      <th></th>\n",
       "      <th>age</th>\n",
       "      <th>bili</th>\n",
       "      <th>alk</th>\n",
       "      <th>sgot</th>\n",
       "      <th>protime</th>\n",
       "      <th>gender_2.0</th>\n",
       "      <th>steroid_2.0</th>\n",
       "      <th>antivirals_2.0</th>\n",
       "      <th>fatigue_2.0</th>\n",
       "      <th>malaise_2.0</th>\n",
       "      <th>anorexia_2.0</th>\n",
       "      <th>liverBig_2.0</th>\n",
       "      <th>liverFirm_2.0</th>\n",
       "      <th>spleen_2.0</th>\n",
       "      <th>spiders_2.0</th>\n",
       "      <th>ascites_2.0</th>\n",
       "      <th>varices_2.0</th>\n",
       "      <th>histology_2.0</th>\n",
       "    </tr>\n",
       "  </thead>\n",
       "  <tbody>\n",
       "    <tr>\n",
       "      <th>0</th>\n",
       "      <td>-1.070063</td>\n",
       "      <td>-0.562549</td>\n",
       "      <td>-0.312889</td>\n",
       "      <td>-0.586222</td>\n",
       "      <td>-0.003703</td>\n",
       "      <td>0</td>\n",
       "      <td>1</td>\n",
       "      <td>1</td>\n",
       "      <td>1</td>\n",
       "      <td>1</td>\n",
       "      <td>1</td>\n",
       "      <td>1</td>\n",
       "      <td>1</td>\n",
       "      <td>1</td>\n",
       "      <td>1</td>\n",
       "      <td>1</td>\n",
       "      <td>1</td>\n",
       "      <td>0</td>\n",
       "    </tr>\n",
       "    <tr>\n",
       "      <th>1</th>\n",
       "      <td>-0.672556</td>\n",
       "      <td>-0.326887</td>\n",
       "      <td>-1.252138</td>\n",
       "      <td>0.113762</td>\n",
       "      <td>-0.061103</td>\n",
       "      <td>0</td>\n",
       "      <td>1</td>\n",
       "      <td>1</td>\n",
       "      <td>1</td>\n",
       "      <td>1</td>\n",
       "      <td>1</td>\n",
       "      <td>1</td>\n",
       "      <td>1</td>\n",
       "      <td>1</td>\n",
       "      <td>1</td>\n",
       "      <td>1</td>\n",
       "      <td>1</td>\n",
       "      <td>0</td>\n",
       "    </tr>\n",
       "    <tr>\n",
       "      <th>2</th>\n",
       "      <td>-0.434052</td>\n",
       "      <td>0.222992</td>\n",
       "      <td>4.744606</td>\n",
       "      <td>-0.242162</td>\n",
       "      <td>-0.003703</td>\n",
       "      <td>0</td>\n",
       "      <td>0</td>\n",
       "      <td>1</td>\n",
       "      <td>0</td>\n",
       "      <td>0</td>\n",
       "      <td>0</td>\n",
       "      <td>0</td>\n",
       "      <td>0</td>\n",
       "      <td>1</td>\n",
       "      <td>0</td>\n",
       "      <td>1</td>\n",
       "      <td>0</td>\n",
       "      <td>1</td>\n",
       "    </tr>\n",
       "    <tr>\n",
       "      <th>3</th>\n",
       "      <td>-1.149564</td>\n",
       "      <td>0.772872</td>\n",
       "      <td>1.686026</td>\n",
       "      <td>1.739149</td>\n",
       "      <td>0.283297</td>\n",
       "      <td>0</td>\n",
       "      <td>0</td>\n",
       "      <td>1</td>\n",
       "      <td>0</td>\n",
       "      <td>1</td>\n",
       "      <td>1</td>\n",
       "      <td>1</td>\n",
       "      <td>0</td>\n",
       "      <td>1</td>\n",
       "      <td>1</td>\n",
       "      <td>1</td>\n",
       "      <td>1</td>\n",
       "      <td>1</td>\n",
       "    </tr>\n",
       "    <tr>\n",
       "      <th>4</th>\n",
       "      <td>1.950989</td>\n",
       "      <td>-0.169778</td>\n",
       "      <td>0.096527</td>\n",
       "      <td>-0.325211</td>\n",
       "      <td>-0.003703</td>\n",
       "      <td>0</td>\n",
       "      <td>1</td>\n",
       "      <td>1</td>\n",
       "      <td>0</td>\n",
       "      <td>1</td>\n",
       "      <td>1</td>\n",
       "      <td>1</td>\n",
       "      <td>1</td>\n",
       "      <td>1</td>\n",
       "      <td>1</td>\n",
       "      <td>1</td>\n",
       "      <td>1</td>\n",
       "      <td>0</td>\n",
       "    </tr>\n",
       "  </tbody>\n",
       "</table>\n",
       "</div>"
      ],
      "text/plain": [
       "        age      bili       alk      sgot   protime  gender_2.0  steroid_2.0  \\\n",
       "0 -1.070063 -0.562549 -0.312889 -0.586222 -0.003703           0            1   \n",
       "1 -0.672556 -0.326887 -1.252138  0.113762 -0.061103           0            1   \n",
       "2 -0.434052  0.222992  4.744606 -0.242162 -0.003703           0            0   \n",
       "3 -1.149564  0.772872  1.686026  1.739149  0.283297           0            0   \n",
       "4  1.950989 -0.169778  0.096527 -0.325211 -0.003703           0            1   \n",
       "\n",
       "   antivirals_2.0  fatigue_2.0  malaise_2.0  anorexia_2.0  liverBig_2.0  \\\n",
       "0               1            1            1             1             1   \n",
       "1               1            1            1             1             1   \n",
       "2               1            0            0             0             0   \n",
       "3               1            0            1             1             1   \n",
       "4               1            0            1             1             1   \n",
       "\n",
       "   liverFirm_2.0  spleen_2.0  spiders_2.0  ascites_2.0  varices_2.0  \\\n",
       "0              1           1            1            1            1   \n",
       "1              1           1            1            1            1   \n",
       "2              0           1            0            1            0   \n",
       "3              0           1            1            1            1   \n",
       "4              1           1            1            1            1   \n",
       "\n",
       "   histology_2.0  \n",
       "0              0  \n",
       "1              0  \n",
       "2              1  \n",
       "3              1  \n",
       "4              0  "
      ]
     },
     "execution_count": 58,
     "metadata": {},
     "output_type": "execute_result"
    }
   ],
   "source": [
    "X_test.head()"
   ]
  },
  {
   "cell_type": "code",
   "execution_count": 59,
   "metadata": {
    "ExecuteTime": {
     "end_time": "2022-06-23T14:20:46.483809Z",
     "start_time": "2022-06-23T14:20:46.443319Z"
    }
   },
   "outputs": [
    {
     "data": {
      "text/plain": [
       "age               float64\n",
       "bili              float64\n",
       "alk               float64\n",
       "sgot              float64\n",
       "protime           float64\n",
       "gender_2.0          uint8\n",
       "steroid_2.0         uint8\n",
       "antivirals_2.0      uint8\n",
       "fatigue_2.0         uint8\n",
       "malaise_2.0         uint8\n",
       "anorexia_2.0        uint8\n",
       "liverBig_2.0        uint8\n",
       "liverFirm_2.0       uint8\n",
       "spleen_2.0          uint8\n",
       "spiders_2.0         uint8\n",
       "ascites_2.0         uint8\n",
       "varices_2.0         uint8\n",
       "histology_2.0       uint8\n",
       "dtype: object"
      ]
     },
     "execution_count": 59,
     "metadata": {},
     "output_type": "execute_result"
    }
   ],
   "source": [
    "X_train.dtypes"
   ]
  },
  {
   "cell_type": "markdown",
   "metadata": {},
   "source": [
    "## MODEL BUILDING"
   ]
  },
  {
   "cell_type": "markdown",
   "metadata": {},
   "source": [
    "## SVM (Linear  and RBF Models)"
   ]
  },
  {
   "cell_type": "code",
   "execution_count": 60,
   "metadata": {
    "ExecuteTime": {
     "end_time": "2022-06-23T14:21:43.441660Z",
     "start_time": "2022-06-23T14:21:43.435131Z"
    }
   },
   "outputs": [],
   "source": [
    "from sklearn.svm import SVC   #,SVR"
   ]
  },
  {
   "cell_type": "code",
   "execution_count": 61,
   "metadata": {
    "ExecuteTime": {
     "end_time": "2022-06-23T14:25:00.921347Z",
     "start_time": "2022-06-23T14:25:00.916751Z"
    }
   },
   "outputs": [],
   "source": [
    "# Create a SVC classifier using a linear kernel\n",
    "linear_svm = SVC(kernel='linear', C=1, random_state=0) #  poly - degree , rbf - Gamma"
   ]
  },
  {
   "cell_type": "code",
   "execution_count": 62,
   "metadata": {
    "ExecuteTime": {
     "end_time": "2022-06-23T14:25:19.709316Z",
     "start_time": "2022-06-23T14:25:19.691673Z"
    }
   },
   "outputs": [
    {
     "data": {
      "text/plain": [
       "SVC(C=1, kernel='linear', random_state=0)"
      ]
     },
     "execution_count": 62,
     "metadata": {},
     "output_type": "execute_result"
    }
   ],
   "source": [
    "# Train the classifier\n",
    "linear_svm.fit(X=X_train, y= y_train)"
   ]
  },
  {
   "cell_type": "code",
   "execution_count": 63,
   "metadata": {
    "ExecuteTime": {
     "end_time": "2022-06-23T14:26:42.902802Z",
     "start_time": "2022-06-23T14:26:42.847611Z"
    }
   },
   "outputs": [
    {
     "name": "stdout",
     "output_type": "stream",
     "text": [
      "TRAIN Conf Matrix : \n",
      " [[20  6]\n",
      " [ 5 93]]\n",
      "\n",
      "TRAIN DATA ACCURACY 0.9112903225806451\n",
      "\n",
      "Train data f1-score for class '1' 0.9441624365482234\n",
      "\n",
      "Train data f1-score for class '0' 0.7843137254901961\n",
      "\n",
      "\n",
      "--------------------------------------\n",
      "\n",
      "\n",
      "TEST Conf Matrix : \n",
      " [[ 2  4]\n",
      " [ 2 23]]\n",
      "\n",
      "TEST DATA ACCURACY 0.8064516129032258\n",
      "\n",
      "Test data f1-score for class '1' 0.8846153846153846\n",
      "\n",
      "Test data f1-score for class '0' 0.4\n"
     ]
    }
   ],
   "source": [
    "## Predict\n",
    "train_predictions = linear_svm.predict(X_train)\n",
    "test_predictions = linear_svm.predict(X_test)\n",
    "\n",
    "### Train data accuracy\n",
    "from sklearn.metrics import accuracy_score,f1_score\n",
    "\n",
    "print(\"TRAIN Conf Matrix : \\n\", confusion_matrix(y_train, train_predictions))\n",
    "print(\"\\nTRAIN DATA ACCURACY\",accuracy_score(y_train,train_predictions))\n",
    "print(\"\\nTrain data f1-score for class '1'\",f1_score(y_train,train_predictions,pos_label=1))\n",
    "print(\"\\nTrain data f1-score for class '0'\",f1_score(y_train,train_predictions,pos_label=0))\n",
    "\n",
    "### Test data accuracy\n",
    "print(\"\\n\\n--------------------------------------\\n\\n\")\n",
    "\n",
    "print(\"TEST Conf Matrix : \\n\", confusion_matrix(y_test, test_predictions))\n",
    "print(\"\\nTEST DATA ACCURACY\",accuracy_score(y_test,test_predictions))\n",
    "print(\"\\nTest data f1-score for class '1'\",f1_score(y_test,test_predictions,pos_label=1))\n",
    "print(\"\\nTest data f1-score for class '0'\",f1_score(y_test,test_predictions,pos_label=0))"
   ]
  },
  {
   "cell_type": "markdown",
   "metadata": {},
   "source": [
    "####  Non Linear SVM (RBF)"
   ]
  },
  {
   "cell_type": "markdown",
   "metadata": {},
   "source": [
    "Radial Basis Function is a commonly used kernel in SVC:<br>\n",
    "\n",
    "<img src=\"rbf_kernel.png\">\n",
    "\n",
    "where <math xmlns=\"http://www.w3.org/1998/Math/MathML\">\n",
    "  <mrow class=\"MJX-TeXAtom-ORD\">\n",
    "    <mo stretchy=\"false\">|</mo>\n",
    "  </mrow>\n",
    "  <mrow class=\"MJX-TeXAtom-ORD\">\n",
    "    <mo stretchy=\"false\">|</mo>\n",
    "  </mrow>\n",
    "  <mrow class=\"MJX-TeXAtom-ORD\">\n",
    "    <mi mathvariant=\"bold\">x</mi>\n",
    "      <sub>i</sub>\n",
    "  </mrow>\n",
    "  <mo>&#x2212;<!-- − --></mo>\n",
    "  <mrow class=\"MJX-TeXAtom-ORD\">\n",
    "    <msup>\n",
    "      <mi mathvariant=\"bold\">x</mi>\n",
    "      <sub>j</sub>\n",
    "    </msup>\n",
    "  </mrow>\n",
    "  <mrow class=\"MJX-TeXAtom-ORD\">\n",
    "    <mo stretchy=\"false\">|</mo>\n",
    "  </mrow>\n",
    "  <msup>\n",
    "    <mrow class=\"MJX-TeXAtom-ORD\">\n",
    "      <mo stretchy=\"false\">|</mo>\n",
    "    </mrow>\n",
    "    <mrow class=\"MJX-TeXAtom-ORD\">\n",
    "      <sup>2</sup>\n",
    "    </mrow>\n",
    "  </msup>\n",
    "</math>  is the squared Euclidean distance between two data points x<sub>i</sub> and x<sub>j</sub>\n",
    "\n",
    "It is only important to know that an SVC classifier using an RBF kernel has two parameters: gamma and C.\n",
    "\n",
    "<strong>Gamma:</strong>\n",
    "\n",
    "- Gamma is a parameter of the RBF kernel and can be thought of as the ‘spread’ of the kernel and therefore the decision region. When gamma is low, the ‘curve’ of the decision boundary is very low and thus the decision region is very broad. When gamma is high, the ‘curve’ of the decision boundary is high, which creates islands of decision-boundaries around data points.\n",
    "\n",
    "<strong>C:</strong>\n",
    "\n",
    "- C is a parameter of the SVC learner and is the penalty for misclassifying a data point. When C is small, the classifier is okay with misclassified data points (high bias, low variance). When C is large, the classifier is heavily penalized for misclassified data and therefore bends over backwards avoid any misclassified data points (low bias, high variance).\n",
    "\n",
    "\n",
    "<strong>Kernel Trick:</strong><br>\n",
    "Image you have a two-dimensional non-linearly separable dataset, you would like to classify it using SVM. It looks like not possible because the data is not linearly separable. However, if we transform the two-dimensional data to a higher dimension, say, three-dimension or even ten-dimension, we would be able to find a hyperplane to separate the data.\n",
    "\n",
    "<img src=\"kernel_trick.png\">\n",
    "\n",
    "The problem is, if we have a large dataset containing, say, millions of examples, the transformation will take a long time to run.<br>\n",
    "To solve this problem, we actually only care about the result of the dot product (x<sub>i</sub>.x<sub>j</sub>)<br>\n",
    "<br>If there is a function which could calculate the dot product and the result is the same as when we transform the data into higher dimension, it would be fantastic. This function is called a kernel function.<br>\n",
    "<br>In essence, what the kernel trick does for us is to offer a more efficient and less expensive way to transform data into higher dimensions."
   ]
  },
  {
   "cell_type": "markdown",
   "metadata": {},
   "source": [
    "### Polynomial Kernel"
   ]
  },
  {
   "cell_type": "code",
   "execution_count": 64,
   "metadata": {
    "ExecuteTime": {
     "end_time": "2022-06-24T13:36:09.788735Z",
     "start_time": "2022-06-24T13:36:09.559643Z"
    }
   },
   "outputs": [],
   "source": [
    "from sklearn.svm import SVC   #,SVR"
   ]
  },
  {
   "cell_type": "code",
   "execution_count": 80,
   "metadata": {
    "ExecuteTime": {
     "end_time": "2022-06-24T13:43:05.536472Z",
     "start_time": "2022-06-24T13:43:05.531615Z"
    }
   },
   "outputs": [],
   "source": [
    "# Create a SVC classifier using a linear kernel\n",
    "poly_svm = SVC(kernel='poly', degree = 2 , C=1, random_state=0) #  poly - degree , rbf - Gamma"
   ]
  },
  {
   "cell_type": "code",
   "execution_count": 81,
   "metadata": {
    "ExecuteTime": {
     "end_time": "2022-06-24T13:43:06.168968Z",
     "start_time": "2022-06-24T13:43:06.147702Z"
    }
   },
   "outputs": [
    {
     "name": "stdout",
     "output_type": "stream",
     "text": [
      "CPU times: user 2 µs, sys: 0 ns, total: 2 µs\n",
      "Wall time: 5.72 µs\n"
     ]
    },
    {
     "data": {
      "text/plain": [
       "SVC(C=1, degree=2, kernel='poly', random_state=0)"
      ]
     },
     "execution_count": 81,
     "metadata": {},
     "output_type": "execute_result"
    }
   ],
   "source": [
    "%time\n",
    "\n",
    "# Train the classifier\n",
    "\n",
    "poly_svm.fit(X=X_train, y= y_train)"
   ]
  },
  {
   "cell_type": "code",
   "execution_count": 82,
   "metadata": {
    "ExecuteTime": {
     "end_time": "2022-06-24T13:43:06.861588Z",
     "start_time": "2022-06-24T13:43:06.824144Z"
    }
   },
   "outputs": [
    {
     "name": "stdout",
     "output_type": "stream",
     "text": [
      "TRAIN Conf Matrix : \n",
      " [[20  6]\n",
      " [ 0 98]]\n",
      "\n",
      "TRAIN DATA ACCURACY 0.9516129032258065\n",
      "\n",
      "Train data f1-score for class '1' 0.9702970297029703\n",
      "\n",
      "Train data f1-score for class '0' 0.8695652173913044\n",
      "\n",
      "\n",
      "--------------------------------------\n",
      "\n",
      "\n",
      "TEST Conf Matrix : \n",
      " [[ 2  4]\n",
      " [ 0 25]]\n",
      "\n",
      "TEST DATA ACCURACY 0.8709677419354839\n",
      "\n",
      "Test data f1-score for class '1' 0.9259259259259259\n",
      "\n",
      "Test data f1-score for class '0' 0.5\n"
     ]
    }
   ],
   "source": [
    "## Predict\n",
    "train_predictions = poly_svm.predict(X_train)\n",
    "test_predictions = poly_svm.predict(X_test)\n",
    "\n",
    "### Train data accuracy\n",
    "from sklearn.metrics import accuracy_score,f1_score\n",
    "\n",
    "print(\"TRAIN Conf Matrix : \\n\", confusion_matrix(y_train, train_predictions))\n",
    "print(\"\\nTRAIN DATA ACCURACY\",accuracy_score(y_train,train_predictions))\n",
    "print(\"\\nTrain data f1-score for class '1'\",f1_score(y_train,train_predictions,pos_label=1))\n",
    "print(\"\\nTrain data f1-score for class '0'\",f1_score(y_train,train_predictions,pos_label=0))\n",
    "\n",
    "### Test data accuracy\n",
    "print(\"\\n\\n--------------------------------------\\n\\n\")\n",
    "\n",
    "print(\"TEST Conf Matrix : \\n\", confusion_matrix(y_test, test_predictions))\n",
    "print(\"\\nTEST DATA ACCURACY\",accuracy_score(y_test,test_predictions))\n",
    "print(\"\\nTest data f1-score for class '1'\",f1_score(y_test,test_predictions,pos_label=1))\n",
    "print(\"\\nTest data f1-score for class '0'\",f1_score(y_test,test_predictions,pos_label=0))"
   ]
  },
  {
   "cell_type": "code",
   "execution_count": null,
   "metadata": {},
   "outputs": [],
   "source": []
  },
  {
   "cell_type": "code",
   "execution_count": null,
   "metadata": {},
   "outputs": [],
   "source": []
  },
  {
   "cell_type": "code",
   "execution_count": 73,
   "metadata": {
    "ExecuteTime": {
     "end_time": "2022-06-24T13:40:32.183959Z",
     "start_time": "2022-06-24T13:40:32.172018Z"
    }
   },
   "outputs": [
    {
     "data": {
      "text/plain": [
       "SVC(C=1, gamma=0.01, random_state=0)"
      ]
     },
     "execution_count": 73,
     "metadata": {},
     "output_type": "execute_result"
    }
   ],
   "source": [
    "## Create an SVC object and print it to see the arguments\n",
    "svc = SVC(kernel='rbf', random_state=0, gamma=0.01, C=1)\n",
    "svc"
   ]
  },
  {
   "cell_type": "code",
   "execution_count": 74,
   "metadata": {
    "ExecuteTime": {
     "end_time": "2022-06-24T13:40:34.500385Z",
     "start_time": "2022-06-24T13:40:34.488501Z"
    }
   },
   "outputs": [
    {
     "data": {
      "text/plain": [
       "SVC(C=1, gamma=0.01, random_state=0)"
      ]
     },
     "execution_count": 74,
     "metadata": {},
     "output_type": "execute_result"
    }
   ],
   "source": [
    "## Train the model\n",
    "svc.fit(X=X_train, y= y_train)"
   ]
  },
  {
   "cell_type": "code",
   "execution_count": 75,
   "metadata": {
    "ExecuteTime": {
     "end_time": "2022-06-24T13:40:37.822976Z",
     "start_time": "2022-06-24T13:40:37.769428Z"
    }
   },
   "outputs": [
    {
     "name": "stdout",
     "output_type": "stream",
     "text": [
      "TRAIN Conf Matrix : \n",
      " [[ 4 22]\n",
      " [ 0 98]]\n",
      "\n",
      "TRAIN DATA ACCURACY 0.8225806451612904\n",
      "\n",
      "Train data f1-score for class '1' 0.8990825688073394\n",
      "\n",
      "Train data f1-score for class '0' 0.2666666666666667\n",
      "\n",
      "\n",
      "--------------------------------------\n",
      "\n",
      "\n",
      "TEST Conf Matrix : \n",
      " [[ 0  6]\n",
      " [ 0 25]]\n",
      "\n",
      "TEST DATA ACCURACY 0.8064516129032258\n",
      "\n",
      "Test data f1-score for class '1' 0.8928571428571428\n",
      "\n",
      "Test data f1-score for class '0' 0.0\n"
     ]
    }
   ],
   "source": [
    "## Predict\n",
    "train_predictions = svc.predict(X_train)\n",
    "test_predictions = svc.predict(X_test)\n",
    "\n",
    "### Train data accuracy\n",
    "\n",
    "print(\"TRAIN Conf Matrix : \\n\", confusion_matrix(y_train, train_predictions))\n",
    "print(\"\\nTRAIN DATA ACCURACY\",accuracy_score(y_train,train_predictions))\n",
    "print(\"\\nTrain data f1-score for class '1'\",f1_score(y_train,train_predictions,pos_label=1))\n",
    "print(\"\\nTrain data f1-score for class '0'\",f1_score(y_train,train_predictions,pos_label=0))\n",
    "\n",
    "### Test data accuracy\n",
    "print(\"\\n\\n--------------------------------------\\n\\n\")\n",
    "\n",
    "print(\"TEST Conf Matrix : \\n\", confusion_matrix(y_test, test_predictions))\n",
    "print(\"\\nTEST DATA ACCURACY\",accuracy_score(y_test,test_predictions))\n",
    "print(\"\\nTest data f1-score for class '1'\",f1_score(y_test,test_predictions,pos_label=1))\n",
    "print(\"\\nTest data f1-score for class '0'\",f1_score(y_test,test_predictions,pos_label=0))"
   ]
  },
  {
   "cell_type": "markdown",
   "metadata": {},
   "source": [
    "### SVM with Grid Search for Paramater Tuning"
   ]
  },
  {
   "cell_type": "code",
   "execution_count": 88,
   "metadata": {
    "ExecuteTime": {
     "end_time": "2022-06-24T13:48:24.274419Z",
     "start_time": "2022-06-24T13:48:24.264400Z"
    }
   },
   "outputs": [
    {
     "data": {
      "text/plain": [
       "[1, 2, 3, 4, 5, 6, 7, 8, 9]"
      ]
     },
     "execution_count": 88,
     "metadata": {},
     "output_type": "execute_result"
    }
   ],
   "source": [
    "list(range(1 ,10 ))"
   ]
  },
  {
   "cell_type": "code",
   "execution_count": 85,
   "metadata": {
    "ExecuteTime": {
     "end_time": "2022-06-24T13:46:35.911048Z",
     "start_time": "2022-06-24T13:46:35.898492Z"
    }
   },
   "outputs": [],
   "source": [
    "## Use Grid Search for parameter tuning\n",
    "\n",
    "from sklearn.model_selection import GridSearchCV\n",
    "\n",
    "svc_grid = SVC()\n",
    " \n",
    "param_grid = { \n",
    "                'C': [0.001, 0.01, 0.1, 1, 10, 100 ],\n",
    "                'gamma': [0, 0.0001, 0.001, 0.01, 0.1, 1, 10, 100], \n",
    "                'kernel':['linear', 'rbf', 'poly' ]\n",
    "             }\n",
    "\n",
    "svc_cv_grid = GridSearchCV(estimator = svc_grid, param_grid = param_grid, cv = 5)"
   ]
  },
  {
   "cell_type": "code",
   "execution_count": 84,
   "metadata": {
    "ExecuteTime": {
     "end_time": "2022-06-24T13:46:19.550293Z",
     "start_time": "2022-06-24T13:46:19.539361Z"
    }
   },
   "outputs": [
    {
     "data": {
      "text/plain": [
       "720"
      ]
     },
     "execution_count": 84,
     "metadata": {},
     "output_type": "execute_result"
    }
   ],
   "source": [
    "6 * 8 * 3 * 5"
   ]
  },
  {
   "cell_type": "code",
   "execution_count": 89,
   "metadata": {
    "ExecuteTime": {
     "end_time": "2022-06-24T13:49:05.144501Z",
     "start_time": "2022-06-24T13:48:59.053553Z"
    }
   },
   "outputs": [
    {
     "name": "stdout",
     "output_type": "stream",
     "text": [
      "CPU times: user 5.72 s, sys: 103 ms, total: 5.82 s\n",
      "Wall time: 6.08 s\n"
     ]
    },
    {
     "data": {
      "text/plain": [
       "GridSearchCV(cv=5, estimator=SVC(),\n",
       "             param_grid={'C': [0.001, 0.01, 0.1, 1, 10, 100],\n",
       "                         'gamma': [0, 0.0001, 0.001, 0.01, 0.1, 1, 10, 100],\n",
       "                         'kernel': ['linear', 'rbf', 'poly']})"
      ]
     },
     "execution_count": 89,
     "metadata": {},
     "output_type": "execute_result"
    }
   ],
   "source": [
    "## Fit the grid search model\n",
    "%time svc_cv_grid.fit(X=X_train, y=y_train)\n",
    "\n",
    "### Cores ## Neural Engine  ### GPU (NVIDIA) -CUDA  "
   ]
  },
  {
   "cell_type": "code",
   "execution_count": 90,
   "metadata": {
    "ExecuteTime": {
     "end_time": "2022-06-24T13:54:06.266043Z",
     "start_time": "2022-06-24T13:54:06.251859Z"
    }
   },
   "outputs": [
    {
     "data": {
      "text/plain": [
       "{'C': 1, 'gamma': 0.1, 'kernel': 'rbf'}"
      ]
     },
     "execution_count": 90,
     "metadata": {},
     "output_type": "execute_result"
    }
   ],
   "source": [
    "# Get the best parameters\n",
    "svc_cv_grid.best_params_"
   ]
  },
  {
   "cell_type": "code",
   "execution_count": 91,
   "metadata": {
    "ExecuteTime": {
     "end_time": "2022-06-24T13:54:24.697745Z",
     "start_time": "2022-06-24T13:54:24.558244Z"
    },
    "scrolled": true
   },
   "outputs": [
    {
     "data": {
      "text/plain": [
       "{'mean_fit_time': array([0.00920439, 0.0052412 , 0.0035892 , 0.00411296, 0.00391955,\n",
       "        0.00406594, 0.00417109, 0.00382552, 0.00398879, 0.00372314,\n",
       "        0.00381842, 0.00433607, 0.00505424, 0.00448465, 0.00401597,\n",
       "        0.00571661, 0.00492387, 0.00511098, 0.00471263, 0.00486565,\n",
       "        0.00411706, 0.00446224, 0.00425916, 0.00805092, 0.01193743,\n",
       "        0.00558772, 0.00429282, 0.00572739, 0.00536656, 0.00474501,\n",
       "        0.00387383, 0.00391717, 0.00409036, 0.00455642, 0.00410938,\n",
       "        0.0038022 , 0.00393896, 0.00373693, 0.00404716, 0.00377383,\n",
       "        0.00428362, 0.00374918, 0.00344906, 0.00431962, 0.00389256,\n",
       "        0.00379295, 0.00484657, 0.00379205, 0.00368514, 0.00384188,\n",
       "        0.00365081, 0.00361896, 0.00391402, 0.00382276, 0.00379767,\n",
       "        0.00376453, 0.00363178, 0.00390205, 0.00401602, 0.0038414 ,\n",
       "        0.00459771, 0.00426941, 0.00395446, 0.00382457, 0.00418553,\n",
       "        0.00411005, 0.00401983, 0.00482259, 0.00385494, 0.00412431,\n",
       "        0.00448179, 0.00418487, 0.00510907, 0.00370741, 0.00387921,\n",
       "        0.00380564, 0.00399756, 0.0039259 , 0.00389676, 0.00418711,\n",
       "        0.00402737, 0.00408878, 0.00385218, 0.00397253, 0.00403357,\n",
       "        0.0053194 , 0.00619769, 0.00403924, 0.00434141, 0.00403123,\n",
       "        0.00378156, 0.00447397, 0.00398917, 0.00408077, 0.00443001,\n",
       "        0.00382996, 0.00482149, 0.0039649 , 0.00395045, 0.00489664,\n",
       "        0.0038836 , 0.00407767, 0.00505495, 0.00404973, 0.00392461,\n",
       "        0.004533  , 0.00373697, 0.00393147, 0.00465879, 0.00403099,\n",
       "        0.00512652, 0.0058105 , 0.00447407, 0.00397539, 0.00442762,\n",
       "        0.00498152, 0.00388112, 0.00466781, 0.00451579, 0.00375314,\n",
       "        0.01080179, 0.00372677, 0.0048862 , 0.01089568, 0.00402822,\n",
       "        0.00385189, 0.01093035, 0.00388546, 0.00385237, 0.01124759,\n",
       "        0.00415964, 0.00371904, 0.01099119, 0.00546627, 0.00405378,\n",
       "        0.01080399, 0.00429773, 0.00396104, 0.01109796, 0.00508132,\n",
       "        0.00390854, 0.01084938, 0.0048142 , 0.00404425]),\n",
       " 'std_fit_time': array([0.00142362, 0.00166455, 0.00050357, 0.00080714, 0.00045649,\n",
       "        0.00074423, 0.00064598, 0.00048973, 0.00054708, 0.0003995 ,\n",
       "        0.00029213, 0.00083694, 0.00118672, 0.00054482, 0.00047047,\n",
       "        0.00059135, 0.00093975, 0.00051001, 0.0012173 , 0.00051373,\n",
       "        0.00049229, 0.00062698, 0.00037441, 0.00403937, 0.00701824,\n",
       "        0.00268559, 0.00050644, 0.00188904, 0.00253497, 0.00072643,\n",
       "        0.00031836, 0.00024503, 0.00056607, 0.00078555, 0.00031932,\n",
       "        0.00037508, 0.00035949, 0.0005678 , 0.00058358, 0.00020559,\n",
       "        0.00031013, 0.00023202, 0.0002154 , 0.00060925, 0.00035488,\n",
       "        0.00032811, 0.00111585, 0.00029904, 0.00023863, 0.00044665,\n",
       "        0.00017861, 0.00022222, 0.00041495, 0.00028176, 0.00033843,\n",
       "        0.00031332, 0.00030442, 0.00066841, 0.00042794, 0.00040461,\n",
       "        0.00084396, 0.0006661 , 0.00040394, 0.00033828, 0.00029632,\n",
       "        0.0006805 , 0.00049983, 0.00044052, 0.00019421, 0.00073724,\n",
       "        0.00069418, 0.00050423, 0.00161766, 0.00032433, 0.00034737,\n",
       "        0.00030092, 0.00027611, 0.00066334, 0.00034775, 0.00042606,\n",
       "        0.00045479, 0.00069652, 0.00026612, 0.00053917, 0.00052919,\n",
       "        0.00118544, 0.00212465, 0.00051338, 0.00055475, 0.00048511,\n",
       "        0.00022601, 0.0004323 , 0.00047315, 0.00076159, 0.00026898,\n",
       "        0.00016629, 0.00074216, 0.00065302, 0.00055814, 0.00103746,\n",
       "        0.00033224, 0.00042083, 0.00105897, 0.00036119, 0.00030752,\n",
       "        0.00062361, 0.00016206, 0.00058206, 0.00071035, 0.00038244,\n",
       "        0.00120556, 0.00126224, 0.00049233, 0.00037465, 0.00043668,\n",
       "        0.00065446, 0.0002148 , 0.00047695, 0.00044227, 0.00022093,\n",
       "        0.00384768, 0.00028751, 0.00073986, 0.00325991, 0.0004078 ,\n",
       "        0.00043668, 0.00349235, 0.00049271, 0.00047784, 0.00323346,\n",
       "        0.00044156, 0.00034728, 0.00295332, 0.00142331, 0.00085985,\n",
       "        0.00397617, 0.00046878, 0.00048428, 0.00404759, 0.00050292,\n",
       "        0.00037708, 0.0030534 , 0.00099199, 0.00038148]),\n",
       " 'mean_score_time': array([0.00551195, 0.0037704 , 0.00275974, 0.00245566, 0.00258975,\n",
       "        0.00269723, 0.00240693, 0.00280986, 0.00251598, 0.00265064,\n",
       "        0.00280857, 0.00274777, 0.00323453, 0.0037508 , 0.00313039,\n",
       "        0.00359125, 0.00351434, 0.00332398, 0.00366507, 0.00339675,\n",
       "        0.0028708 , 0.00308652, 0.00305276, 0.00532751, 0.00996361,\n",
       "        0.00336604, 0.00291095, 0.00289698, 0.00327964, 0.0038486 ,\n",
       "        0.00263906, 0.00273194, 0.00284257, 0.00301843, 0.00264583,\n",
       "        0.00289416, 0.00262475, 0.00266089, 0.00247831, 0.00286078,\n",
       "        0.00290394, 0.00267076, 0.0028141 , 0.00289598, 0.00263944,\n",
       "        0.00249066, 0.00409546, 0.00250583, 0.00280309, 0.0027226 ,\n",
       "        0.00272379, 0.00268846, 0.00281339, 0.00278311, 0.00264173,\n",
       "        0.00275769, 0.00250773, 0.00259562, 0.00257874, 0.00259967,\n",
       "        0.00325809, 0.0031764 , 0.00272574, 0.00285912, 0.00304146,\n",
       "        0.00251164, 0.00278597, 0.00312595, 0.00277653, 0.00237522,\n",
       "        0.01537356, 0.0029458 , 0.00308714, 0.00300145, 0.00273161,\n",
       "        0.00286303, 0.00276365, 0.00263109, 0.00287309, 0.00259948,\n",
       "        0.00271659, 0.0028336 , 0.00263505, 0.00241261, 0.00276361,\n",
       "        0.00323148, 0.00340567, 0.00273218, 0.00285163, 0.00270853,\n",
       "        0.00269785, 0.00316668, 0.00246162, 0.00241208, 0.00305681,\n",
       "        0.00286021, 0.00242109, 0.0034193 , 0.00267596, 0.00270433,\n",
       "        0.00273437, 0.00268621, 0.00292459, 0.00273685, 0.00256243,\n",
       "        0.00271425, 0.00304027, 0.00273957, 0.00268598, 0.00278316,\n",
       "        0.00278788, 0.00347013, 0.0028769 , 0.00255837, 0.00266614,\n",
       "        0.00277195, 0.00273123, 0.00259566, 0.00289178, 0.00282688,\n",
       "        0.00275621, 0.00281787, 0.00287638, 0.00279722, 0.00263734,\n",
       "        0.00252266, 0.00267754, 0.00275755, 0.00243764, 0.00266576,\n",
       "        0.00256567, 0.0026958 , 0.00380306, 0.00306592, 0.00266361,\n",
       "        0.00267582, 0.0029099 , 0.00260453, 0.00271301, 0.00318189,\n",
       "        0.00235357, 0.00281782, 0.00350971, 0.00283942]),\n",
       " 'std_score_time': array([0.00114278, 0.0007432 , 0.00026365, 0.00024293, 0.00026173,\n",
       "        0.00036023, 0.00017283, 0.00024528, 0.00025159, 0.00046876,\n",
       "        0.00025866, 0.00033935, 0.00074328, 0.00093515, 0.00034595,\n",
       "        0.00109465, 0.00055908, 0.00054114, 0.0014473 , 0.00055614,\n",
       "        0.00033243, 0.00052713, 0.00054457, 0.00250433, 0.00396496,\n",
       "        0.00062248, 0.0005835 , 0.00054528, 0.00086173, 0.00129459,\n",
       "        0.00019575, 0.00027159, 0.00069144, 0.00047123, 0.00018673,\n",
       "        0.00077803, 0.00041311, 0.00031954, 0.00018954, 0.00085093,\n",
       "        0.0002181 , 0.00051372, 0.0005559 , 0.00028038, 0.00048531,\n",
       "        0.00031292, 0.00111344, 0.00038373, 0.00035768, 0.00027727,\n",
       "        0.00050453, 0.00063757, 0.00034151, 0.00041225, 0.00043458,\n",
       "        0.00030075, 0.00035457, 0.00041741, 0.00015471, 0.00033973,\n",
       "        0.00121172, 0.00078785, 0.00031995, 0.00074684, 0.0004803 ,\n",
       "        0.00021499, 0.00045665, 0.00031677, 0.00035881, 0.00016051,\n",
       "        0.02462387, 0.00071861, 0.0007547 , 0.00049356, 0.00056975,\n",
       "        0.00051967, 0.00046601, 0.00011426, 0.00054483, 0.00015348,\n",
       "        0.00035996, 0.00046813, 0.00028444, 0.0001399 , 0.00047753,\n",
       "        0.00064681, 0.00087268, 0.00044943, 0.00025461, 0.00027841,\n",
       "        0.00033868, 0.00047036, 0.00011489, 0.00015666, 0.00044231,\n",
       "        0.00030587, 0.00015769, 0.00121388, 0.00054041, 0.00033854,\n",
       "        0.00040462, 0.00025681, 0.00058022, 0.00021672, 0.00024573,\n",
       "        0.0004117 , 0.00054099, 0.00044112, 0.00034378, 0.00030623,\n",
       "        0.00065766, 0.00087023, 0.00031482, 0.00024897, 0.00057994,\n",
       "        0.00023708, 0.00039969, 0.00033787, 0.00017996, 0.00057162,\n",
       "        0.00024513, 0.00038864, 0.00048886, 0.00030342, 0.00020359,\n",
       "        0.00027202, 0.00015247, 0.00026581, 0.00027655, 0.00010962,\n",
       "        0.00018839, 0.00039657, 0.00084956, 0.00054749, 0.00038839,\n",
       "        0.00031499, 0.00041572, 0.00023985, 0.00014333, 0.00075185,\n",
       "        0.00010938, 0.00033366, 0.00101742, 0.00073337]),\n",
       " 'param_C': masked_array(data=[0.001, 0.001, 0.001, 0.001, 0.001, 0.001, 0.001, 0.001,\n",
       "                    0.001, 0.001, 0.001, 0.001, 0.001, 0.001, 0.001, 0.001,\n",
       "                    0.001, 0.001, 0.001, 0.001, 0.001, 0.001, 0.001, 0.001,\n",
       "                    0.01, 0.01, 0.01, 0.01, 0.01, 0.01, 0.01, 0.01, 0.01,\n",
       "                    0.01, 0.01, 0.01, 0.01, 0.01, 0.01, 0.01, 0.01, 0.01,\n",
       "                    0.01, 0.01, 0.01, 0.01, 0.01, 0.01, 0.1, 0.1, 0.1, 0.1,\n",
       "                    0.1, 0.1, 0.1, 0.1, 0.1, 0.1, 0.1, 0.1, 0.1, 0.1, 0.1,\n",
       "                    0.1, 0.1, 0.1, 0.1, 0.1, 0.1, 0.1, 0.1, 0.1, 1, 1, 1,\n",
       "                    1, 1, 1, 1, 1, 1, 1, 1, 1, 1, 1, 1, 1, 1, 1, 1, 1, 1,\n",
       "                    1, 1, 1, 10, 10, 10, 10, 10, 10, 10, 10, 10, 10, 10,\n",
       "                    10, 10, 10, 10, 10, 10, 10, 10, 10, 10, 10, 10, 10,\n",
       "                    100, 100, 100, 100, 100, 100, 100, 100, 100, 100, 100,\n",
       "                    100, 100, 100, 100, 100, 100, 100, 100, 100, 100, 100,\n",
       "                    100, 100],\n",
       "              mask=[False, False, False, False, False, False, False, False,\n",
       "                    False, False, False, False, False, False, False, False,\n",
       "                    False, False, False, False, False, False, False, False,\n",
       "                    False, False, False, False, False, False, False, False,\n",
       "                    False, False, False, False, False, False, False, False,\n",
       "                    False, False, False, False, False, False, False, False,\n",
       "                    False, False, False, False, False, False, False, False,\n",
       "                    False, False, False, False, False, False, False, False,\n",
       "                    False, False, False, False, False, False, False, False,\n",
       "                    False, False, False, False, False, False, False, False,\n",
       "                    False, False, False, False, False, False, False, False,\n",
       "                    False, False, False, False, False, False, False, False,\n",
       "                    False, False, False, False, False, False, False, False,\n",
       "                    False, False, False, False, False, False, False, False,\n",
       "                    False, False, False, False, False, False, False, False,\n",
       "                    False, False, False, False, False, False, False, False,\n",
       "                    False, False, False, False, False, False, False, False,\n",
       "                    False, False, False, False, False, False, False, False],\n",
       "        fill_value='?',\n",
       "             dtype=object),\n",
       " 'param_gamma': masked_array(data=[0, 0, 0, 0.0001, 0.0001, 0.0001, 0.001, 0.001, 0.001,\n",
       "                    0.01, 0.01, 0.01, 0.1, 0.1, 0.1, 1, 1, 1, 10, 10, 10,\n",
       "                    100, 100, 100, 0, 0, 0, 0.0001, 0.0001, 0.0001, 0.001,\n",
       "                    0.001, 0.001, 0.01, 0.01, 0.01, 0.1, 0.1, 0.1, 1, 1, 1,\n",
       "                    10, 10, 10, 100, 100, 100, 0, 0, 0, 0.0001, 0.0001,\n",
       "                    0.0001, 0.001, 0.001, 0.001, 0.01, 0.01, 0.01, 0.1,\n",
       "                    0.1, 0.1, 1, 1, 1, 10, 10, 10, 100, 100, 100, 0, 0, 0,\n",
       "                    0.0001, 0.0001, 0.0001, 0.001, 0.001, 0.001, 0.01,\n",
       "                    0.01, 0.01, 0.1, 0.1, 0.1, 1, 1, 1, 10, 10, 10, 100,\n",
       "                    100, 100, 0, 0, 0, 0.0001, 0.0001, 0.0001, 0.001,\n",
       "                    0.001, 0.001, 0.01, 0.01, 0.01, 0.1, 0.1, 0.1, 1, 1, 1,\n",
       "                    10, 10, 10, 100, 100, 100, 0, 0, 0, 0.0001, 0.0001,\n",
       "                    0.0001, 0.001, 0.001, 0.001, 0.01, 0.01, 0.01, 0.1,\n",
       "                    0.1, 0.1, 1, 1, 1, 10, 10, 10, 100, 100, 100],\n",
       "              mask=[False, False, False, False, False, False, False, False,\n",
       "                    False, False, False, False, False, False, False, False,\n",
       "                    False, False, False, False, False, False, False, False,\n",
       "                    False, False, False, False, False, False, False, False,\n",
       "                    False, False, False, False, False, False, False, False,\n",
       "                    False, False, False, False, False, False, False, False,\n",
       "                    False, False, False, False, False, False, False, False,\n",
       "                    False, False, False, False, False, False, False, False,\n",
       "                    False, False, False, False, False, False, False, False,\n",
       "                    False, False, False, False, False, False, False, False,\n",
       "                    False, False, False, False, False, False, False, False,\n",
       "                    False, False, False, False, False, False, False, False,\n",
       "                    False, False, False, False, False, False, False, False,\n",
       "                    False, False, False, False, False, False, False, False,\n",
       "                    False, False, False, False, False, False, False, False,\n",
       "                    False, False, False, False, False, False, False, False,\n",
       "                    False, False, False, False, False, False, False, False,\n",
       "                    False, False, False, False, False, False, False, False],\n",
       "        fill_value='?',\n",
       "             dtype=object),\n",
       " 'param_kernel': masked_array(data=['linear', 'rbf', 'poly', 'linear', 'rbf', 'poly',\n",
       "                    'linear', 'rbf', 'poly', 'linear', 'rbf', 'poly',\n",
       "                    'linear', 'rbf', 'poly', 'linear', 'rbf', 'poly',\n",
       "                    'linear', 'rbf', 'poly', 'linear', 'rbf', 'poly',\n",
       "                    'linear', 'rbf', 'poly', 'linear', 'rbf', 'poly',\n",
       "                    'linear', 'rbf', 'poly', 'linear', 'rbf', 'poly',\n",
       "                    'linear', 'rbf', 'poly', 'linear', 'rbf', 'poly',\n",
       "                    'linear', 'rbf', 'poly', 'linear', 'rbf', 'poly',\n",
       "                    'linear', 'rbf', 'poly', 'linear', 'rbf', 'poly',\n",
       "                    'linear', 'rbf', 'poly', 'linear', 'rbf', 'poly',\n",
       "                    'linear', 'rbf', 'poly', 'linear', 'rbf', 'poly',\n",
       "                    'linear', 'rbf', 'poly', 'linear', 'rbf', 'poly',\n",
       "                    'linear', 'rbf', 'poly', 'linear', 'rbf', 'poly',\n",
       "                    'linear', 'rbf', 'poly', 'linear', 'rbf', 'poly',\n",
       "                    'linear', 'rbf', 'poly', 'linear', 'rbf', 'poly',\n",
       "                    'linear', 'rbf', 'poly', 'linear', 'rbf', 'poly',\n",
       "                    'linear', 'rbf', 'poly', 'linear', 'rbf', 'poly',\n",
       "                    'linear', 'rbf', 'poly', 'linear', 'rbf', 'poly',\n",
       "                    'linear', 'rbf', 'poly', 'linear', 'rbf', 'poly',\n",
       "                    'linear', 'rbf', 'poly', 'linear', 'rbf', 'poly',\n",
       "                    'linear', 'rbf', 'poly', 'linear', 'rbf', 'poly',\n",
       "                    'linear', 'rbf', 'poly', 'linear', 'rbf', 'poly',\n",
       "                    'linear', 'rbf', 'poly', 'linear', 'rbf', 'poly',\n",
       "                    'linear', 'rbf', 'poly', 'linear', 'rbf', 'poly'],\n",
       "              mask=[False, False, False, False, False, False, False, False,\n",
       "                    False, False, False, False, False, False, False, False,\n",
       "                    False, False, False, False, False, False, False, False,\n",
       "                    False, False, False, False, False, False, False, False,\n",
       "                    False, False, False, False, False, False, False, False,\n",
       "                    False, False, False, False, False, False, False, False,\n",
       "                    False, False, False, False, False, False, False, False,\n",
       "                    False, False, False, False, False, False, False, False,\n",
       "                    False, False, False, False, False, False, False, False,\n",
       "                    False, False, False, False, False, False, False, False,\n",
       "                    False, False, False, False, False, False, False, False,\n",
       "                    False, False, False, False, False, False, False, False,\n",
       "                    False, False, False, False, False, False, False, False,\n",
       "                    False, False, False, False, False, False, False, False,\n",
       "                    False, False, False, False, False, False, False, False,\n",
       "                    False, False, False, False, False, False, False, False,\n",
       "                    False, False, False, False, False, False, False, False,\n",
       "                    False, False, False, False, False, False, False, False],\n",
       "        fill_value='?',\n",
       "             dtype=object),\n",
       " 'params': [{'C': 0.001, 'gamma': 0, 'kernel': 'linear'},\n",
       "  {'C': 0.001, 'gamma': 0, 'kernel': 'rbf'},\n",
       "  {'C': 0.001, 'gamma': 0, 'kernel': 'poly'},\n",
       "  {'C': 0.001, 'gamma': 0.0001, 'kernel': 'linear'},\n",
       "  {'C': 0.001, 'gamma': 0.0001, 'kernel': 'rbf'},\n",
       "  {'C': 0.001, 'gamma': 0.0001, 'kernel': 'poly'},\n",
       "  {'C': 0.001, 'gamma': 0.001, 'kernel': 'linear'},\n",
       "  {'C': 0.001, 'gamma': 0.001, 'kernel': 'rbf'},\n",
       "  {'C': 0.001, 'gamma': 0.001, 'kernel': 'poly'},\n",
       "  {'C': 0.001, 'gamma': 0.01, 'kernel': 'linear'},\n",
       "  {'C': 0.001, 'gamma': 0.01, 'kernel': 'rbf'},\n",
       "  {'C': 0.001, 'gamma': 0.01, 'kernel': 'poly'},\n",
       "  {'C': 0.001, 'gamma': 0.1, 'kernel': 'linear'},\n",
       "  {'C': 0.001, 'gamma': 0.1, 'kernel': 'rbf'},\n",
       "  {'C': 0.001, 'gamma': 0.1, 'kernel': 'poly'},\n",
       "  {'C': 0.001, 'gamma': 1, 'kernel': 'linear'},\n",
       "  {'C': 0.001, 'gamma': 1, 'kernel': 'rbf'},\n",
       "  {'C': 0.001, 'gamma': 1, 'kernel': 'poly'},\n",
       "  {'C': 0.001, 'gamma': 10, 'kernel': 'linear'},\n",
       "  {'C': 0.001, 'gamma': 10, 'kernel': 'rbf'},\n",
       "  {'C': 0.001, 'gamma': 10, 'kernel': 'poly'},\n",
       "  {'C': 0.001, 'gamma': 100, 'kernel': 'linear'},\n",
       "  {'C': 0.001, 'gamma': 100, 'kernel': 'rbf'},\n",
       "  {'C': 0.001, 'gamma': 100, 'kernel': 'poly'},\n",
       "  {'C': 0.01, 'gamma': 0, 'kernel': 'linear'},\n",
       "  {'C': 0.01, 'gamma': 0, 'kernel': 'rbf'},\n",
       "  {'C': 0.01, 'gamma': 0, 'kernel': 'poly'},\n",
       "  {'C': 0.01, 'gamma': 0.0001, 'kernel': 'linear'},\n",
       "  {'C': 0.01, 'gamma': 0.0001, 'kernel': 'rbf'},\n",
       "  {'C': 0.01, 'gamma': 0.0001, 'kernel': 'poly'},\n",
       "  {'C': 0.01, 'gamma': 0.001, 'kernel': 'linear'},\n",
       "  {'C': 0.01, 'gamma': 0.001, 'kernel': 'rbf'},\n",
       "  {'C': 0.01, 'gamma': 0.001, 'kernel': 'poly'},\n",
       "  {'C': 0.01, 'gamma': 0.01, 'kernel': 'linear'},\n",
       "  {'C': 0.01, 'gamma': 0.01, 'kernel': 'rbf'},\n",
       "  {'C': 0.01, 'gamma': 0.01, 'kernel': 'poly'},\n",
       "  {'C': 0.01, 'gamma': 0.1, 'kernel': 'linear'},\n",
       "  {'C': 0.01, 'gamma': 0.1, 'kernel': 'rbf'},\n",
       "  {'C': 0.01, 'gamma': 0.1, 'kernel': 'poly'},\n",
       "  {'C': 0.01, 'gamma': 1, 'kernel': 'linear'},\n",
       "  {'C': 0.01, 'gamma': 1, 'kernel': 'rbf'},\n",
       "  {'C': 0.01, 'gamma': 1, 'kernel': 'poly'},\n",
       "  {'C': 0.01, 'gamma': 10, 'kernel': 'linear'},\n",
       "  {'C': 0.01, 'gamma': 10, 'kernel': 'rbf'},\n",
       "  {'C': 0.01, 'gamma': 10, 'kernel': 'poly'},\n",
       "  {'C': 0.01, 'gamma': 100, 'kernel': 'linear'},\n",
       "  {'C': 0.01, 'gamma': 100, 'kernel': 'rbf'},\n",
       "  {'C': 0.01, 'gamma': 100, 'kernel': 'poly'},\n",
       "  {'C': 0.1, 'gamma': 0, 'kernel': 'linear'},\n",
       "  {'C': 0.1, 'gamma': 0, 'kernel': 'rbf'},\n",
       "  {'C': 0.1, 'gamma': 0, 'kernel': 'poly'},\n",
       "  {'C': 0.1, 'gamma': 0.0001, 'kernel': 'linear'},\n",
       "  {'C': 0.1, 'gamma': 0.0001, 'kernel': 'rbf'},\n",
       "  {'C': 0.1, 'gamma': 0.0001, 'kernel': 'poly'},\n",
       "  {'C': 0.1, 'gamma': 0.001, 'kernel': 'linear'},\n",
       "  {'C': 0.1, 'gamma': 0.001, 'kernel': 'rbf'},\n",
       "  {'C': 0.1, 'gamma': 0.001, 'kernel': 'poly'},\n",
       "  {'C': 0.1, 'gamma': 0.01, 'kernel': 'linear'},\n",
       "  {'C': 0.1, 'gamma': 0.01, 'kernel': 'rbf'},\n",
       "  {'C': 0.1, 'gamma': 0.01, 'kernel': 'poly'},\n",
       "  {'C': 0.1, 'gamma': 0.1, 'kernel': 'linear'},\n",
       "  {'C': 0.1, 'gamma': 0.1, 'kernel': 'rbf'},\n",
       "  {'C': 0.1, 'gamma': 0.1, 'kernel': 'poly'},\n",
       "  {'C': 0.1, 'gamma': 1, 'kernel': 'linear'},\n",
       "  {'C': 0.1, 'gamma': 1, 'kernel': 'rbf'},\n",
       "  {'C': 0.1, 'gamma': 1, 'kernel': 'poly'},\n",
       "  {'C': 0.1, 'gamma': 10, 'kernel': 'linear'},\n",
       "  {'C': 0.1, 'gamma': 10, 'kernel': 'rbf'},\n",
       "  {'C': 0.1, 'gamma': 10, 'kernel': 'poly'},\n",
       "  {'C': 0.1, 'gamma': 100, 'kernel': 'linear'},\n",
       "  {'C': 0.1, 'gamma': 100, 'kernel': 'rbf'},\n",
       "  {'C': 0.1, 'gamma': 100, 'kernel': 'poly'},\n",
       "  {'C': 1, 'gamma': 0, 'kernel': 'linear'},\n",
       "  {'C': 1, 'gamma': 0, 'kernel': 'rbf'},\n",
       "  {'C': 1, 'gamma': 0, 'kernel': 'poly'},\n",
       "  {'C': 1, 'gamma': 0.0001, 'kernel': 'linear'},\n",
       "  {'C': 1, 'gamma': 0.0001, 'kernel': 'rbf'},\n",
       "  {'C': 1, 'gamma': 0.0001, 'kernel': 'poly'},\n",
       "  {'C': 1, 'gamma': 0.001, 'kernel': 'linear'},\n",
       "  {'C': 1, 'gamma': 0.001, 'kernel': 'rbf'},\n",
       "  {'C': 1, 'gamma': 0.001, 'kernel': 'poly'},\n",
       "  {'C': 1, 'gamma': 0.01, 'kernel': 'linear'},\n",
       "  {'C': 1, 'gamma': 0.01, 'kernel': 'rbf'},\n",
       "  {'C': 1, 'gamma': 0.01, 'kernel': 'poly'},\n",
       "  {'C': 1, 'gamma': 0.1, 'kernel': 'linear'},\n",
       "  {'C': 1, 'gamma': 0.1, 'kernel': 'rbf'},\n",
       "  {'C': 1, 'gamma': 0.1, 'kernel': 'poly'},\n",
       "  {'C': 1, 'gamma': 1, 'kernel': 'linear'},\n",
       "  {'C': 1, 'gamma': 1, 'kernel': 'rbf'},\n",
       "  {'C': 1, 'gamma': 1, 'kernel': 'poly'},\n",
       "  {'C': 1, 'gamma': 10, 'kernel': 'linear'},\n",
       "  {'C': 1, 'gamma': 10, 'kernel': 'rbf'},\n",
       "  {'C': 1, 'gamma': 10, 'kernel': 'poly'},\n",
       "  {'C': 1, 'gamma': 100, 'kernel': 'linear'},\n",
       "  {'C': 1, 'gamma': 100, 'kernel': 'rbf'},\n",
       "  {'C': 1, 'gamma': 100, 'kernel': 'poly'},\n",
       "  {'C': 10, 'gamma': 0, 'kernel': 'linear'},\n",
       "  {'C': 10, 'gamma': 0, 'kernel': 'rbf'},\n",
       "  {'C': 10, 'gamma': 0, 'kernel': 'poly'},\n",
       "  {'C': 10, 'gamma': 0.0001, 'kernel': 'linear'},\n",
       "  {'C': 10, 'gamma': 0.0001, 'kernel': 'rbf'},\n",
       "  {'C': 10, 'gamma': 0.0001, 'kernel': 'poly'},\n",
       "  {'C': 10, 'gamma': 0.001, 'kernel': 'linear'},\n",
       "  {'C': 10, 'gamma': 0.001, 'kernel': 'rbf'},\n",
       "  {'C': 10, 'gamma': 0.001, 'kernel': 'poly'},\n",
       "  {'C': 10, 'gamma': 0.01, 'kernel': 'linear'},\n",
       "  {'C': 10, 'gamma': 0.01, 'kernel': 'rbf'},\n",
       "  {'C': 10, 'gamma': 0.01, 'kernel': 'poly'},\n",
       "  {'C': 10, 'gamma': 0.1, 'kernel': 'linear'},\n",
       "  {'C': 10, 'gamma': 0.1, 'kernel': 'rbf'},\n",
       "  {'C': 10, 'gamma': 0.1, 'kernel': 'poly'},\n",
       "  {'C': 10, 'gamma': 1, 'kernel': 'linear'},\n",
       "  {'C': 10, 'gamma': 1, 'kernel': 'rbf'},\n",
       "  {'C': 10, 'gamma': 1, 'kernel': 'poly'},\n",
       "  {'C': 10, 'gamma': 10, 'kernel': 'linear'},\n",
       "  {'C': 10, 'gamma': 10, 'kernel': 'rbf'},\n",
       "  {'C': 10, 'gamma': 10, 'kernel': 'poly'},\n",
       "  {'C': 10, 'gamma': 100, 'kernel': 'linear'},\n",
       "  {'C': 10, 'gamma': 100, 'kernel': 'rbf'},\n",
       "  {'C': 10, 'gamma': 100, 'kernel': 'poly'},\n",
       "  {'C': 100, 'gamma': 0, 'kernel': 'linear'},\n",
       "  {'C': 100, 'gamma': 0, 'kernel': 'rbf'},\n",
       "  {'C': 100, 'gamma': 0, 'kernel': 'poly'},\n",
       "  {'C': 100, 'gamma': 0.0001, 'kernel': 'linear'},\n",
       "  {'C': 100, 'gamma': 0.0001, 'kernel': 'rbf'},\n",
       "  {'C': 100, 'gamma': 0.0001, 'kernel': 'poly'},\n",
       "  {'C': 100, 'gamma': 0.001, 'kernel': 'linear'},\n",
       "  {'C': 100, 'gamma': 0.001, 'kernel': 'rbf'},\n",
       "  {'C': 100, 'gamma': 0.001, 'kernel': 'poly'},\n",
       "  {'C': 100, 'gamma': 0.01, 'kernel': 'linear'},\n",
       "  {'C': 100, 'gamma': 0.01, 'kernel': 'rbf'},\n",
       "  {'C': 100, 'gamma': 0.01, 'kernel': 'poly'},\n",
       "  {'C': 100, 'gamma': 0.1, 'kernel': 'linear'},\n",
       "  {'C': 100, 'gamma': 0.1, 'kernel': 'rbf'},\n",
       "  {'C': 100, 'gamma': 0.1, 'kernel': 'poly'},\n",
       "  {'C': 100, 'gamma': 1, 'kernel': 'linear'},\n",
       "  {'C': 100, 'gamma': 1, 'kernel': 'rbf'},\n",
       "  {'C': 100, 'gamma': 1, 'kernel': 'poly'},\n",
       "  {'C': 100, 'gamma': 10, 'kernel': 'linear'},\n",
       "  {'C': 100, 'gamma': 10, 'kernel': 'rbf'},\n",
       "  {'C': 100, 'gamma': 10, 'kernel': 'poly'},\n",
       "  {'C': 100, 'gamma': 100, 'kernel': 'linear'},\n",
       "  {'C': 100, 'gamma': 100, 'kernel': 'rbf'},\n",
       "  {'C': 100, 'gamma': 100, 'kernel': 'poly'}],\n",
       " 'split0_test_score': array([0.8 , 0.8 , 0.8 , 0.8 , 0.8 , 0.8 , 0.8 , 0.8 , 0.8 , 0.8 , 0.8 ,\n",
       "        0.8 , 0.8 , 0.8 , 0.8 , 0.8 , 0.8 , 0.8 , 0.8 , 0.8 , 0.72, 0.8 ,\n",
       "        0.8 , 0.72, 0.8 , 0.8 , 0.8 , 0.8 , 0.8 , 0.8 , 0.8 , 0.8 , 0.8 ,\n",
       "        0.8 , 0.8 , 0.8 , 0.8 , 0.8 , 0.8 , 0.8 , 0.8 , 0.72, 0.8 , 0.8 ,\n",
       "        0.72, 0.8 , 0.8 , 0.72, 0.8 , 0.8 , 0.8 , 0.8 , 0.8 , 0.8 , 0.8 ,\n",
       "        0.8 , 0.8 , 0.8 , 0.8 , 0.8 , 0.8 , 0.8 , 0.8 , 0.8 , 0.8 , 0.72,\n",
       "        0.8 , 0.8 , 0.72, 0.8 , 0.8 , 0.72, 0.84, 0.8 , 0.8 , 0.84, 0.8 ,\n",
       "        0.8 , 0.84, 0.8 , 0.8 , 0.84, 0.8 , 0.8 , 0.84, 0.88, 0.8 , 0.84,\n",
       "        0.8 , 0.72, 0.84, 0.8 , 0.72, 0.84, 0.8 , 0.72, 0.92, 0.8 , 0.8 ,\n",
       "        0.92, 0.8 , 0.8 , 0.92, 0.8 , 0.8 , 0.92, 0.88, 0.8 , 0.92, 0.84,\n",
       "        0.72, 0.92, 0.8 , 0.72, 0.92, 0.8 , 0.72, 0.92, 0.8 , 0.72, 0.92,\n",
       "        0.8 , 0.8 , 0.92, 0.8 , 0.8 , 0.92, 0.84, 0.8 , 0.92, 0.8 , 0.8 ,\n",
       "        0.92, 0.84, 0.72, 0.92, 0.8 , 0.72, 0.92, 0.8 , 0.72, 0.92, 0.8 ,\n",
       "        0.72]),\n",
       " 'split1_test_score': array([0.8 , 0.8 , 0.8 , 0.8 , 0.8 , 0.8 , 0.8 , 0.8 , 0.8 , 0.8 , 0.8 ,\n",
       "        0.8 , 0.8 , 0.8 , 0.8 , 0.8 , 0.8 , 0.76, 0.8 , 0.8 , 0.8 , 0.8 ,\n",
       "        0.8 , 0.8 , 0.8 , 0.8 , 0.8 , 0.8 , 0.8 , 0.8 , 0.8 , 0.8 , 0.8 ,\n",
       "        0.8 , 0.8 , 0.8 , 0.8 , 0.8 , 0.8 , 0.8 , 0.8 , 0.8 , 0.8 , 0.8 ,\n",
       "        0.8 , 0.8 , 0.8 , 0.8 , 0.8 , 0.8 , 0.8 , 0.8 , 0.8 , 0.8 , 0.8 ,\n",
       "        0.8 , 0.8 , 0.8 , 0.8 , 0.8 , 0.8 , 0.8 , 0.8 , 0.8 , 0.8 , 0.8 ,\n",
       "        0.8 , 0.8 , 0.8 , 0.8 , 0.8 , 0.8 , 0.76, 0.8 , 0.8 , 0.76, 0.8 ,\n",
       "        0.8 , 0.76, 0.8 , 0.8 , 0.76, 0.8 , 0.8 , 0.76, 0.8 , 0.76, 0.76,\n",
       "        0.8 , 0.8 , 0.76, 0.8 , 0.8 , 0.76, 0.8 , 0.8 , 0.72, 0.8 , 0.8 ,\n",
       "        0.72, 0.8 , 0.8 , 0.72, 0.8 , 0.8 , 0.72, 0.8 , 0.8 , 0.72, 0.8 ,\n",
       "        0.8 , 0.72, 0.8 , 0.8 , 0.72, 0.8 , 0.8 , 0.72, 0.8 , 0.8 , 0.72,\n",
       "        0.8 , 0.8 , 0.72, 0.8 , 0.8 , 0.72, 0.76, 0.8 , 0.72, 0.8 , 0.8 ,\n",
       "        0.72, 0.8 , 0.8 , 0.72, 0.8 , 0.8 , 0.72, 0.8 , 0.8 , 0.72, 0.8 ,\n",
       "        0.8 ]),\n",
       " 'split2_test_score': array([0.8 , 0.8 , 0.8 , 0.8 , 0.8 , 0.8 , 0.8 , 0.8 , 0.8 , 0.8 , 0.8 ,\n",
       "        0.8 , 0.8 , 0.8 , 0.8 , 0.8 , 0.8 , 0.88, 0.8 , 0.8 , 0.84, 0.8 ,\n",
       "        0.8 , 0.84, 0.8 , 0.8 , 0.8 , 0.8 , 0.8 , 0.8 , 0.8 , 0.8 , 0.8 ,\n",
       "        0.8 , 0.8 , 0.8 , 0.8 , 0.8 , 0.8 , 0.8 , 0.8 , 0.84, 0.8 , 0.8 ,\n",
       "        0.84, 0.8 , 0.8 , 0.84, 0.84, 0.8 , 0.8 , 0.84, 0.8 , 0.8 , 0.84,\n",
       "        0.8 , 0.8 , 0.84, 0.8 , 0.8 , 0.84, 0.8 , 0.84, 0.84, 0.8 , 0.84,\n",
       "        0.84, 0.8 , 0.84, 0.84, 0.8 , 0.84, 0.8 , 0.8 , 0.8 , 0.8 , 0.8 ,\n",
       "        0.8 , 0.8 , 0.8 , 0.8 , 0.8 , 0.8 , 0.8 , 0.8 , 0.8 , 0.88, 0.8 ,\n",
       "        0.8 , 0.84, 0.8 , 0.8 , 0.84, 0.8 , 0.8 , 0.84, 0.8 , 0.8 , 0.8 ,\n",
       "        0.8 , 0.8 , 0.8 , 0.8 , 0.8 , 0.8 , 0.8 , 0.84, 0.8 , 0.8 , 0.84,\n",
       "        0.84, 0.8 , 0.8 , 0.84, 0.8 , 0.8 , 0.84, 0.8 , 0.8 , 0.84, 0.84,\n",
       "        0.8 , 0.8 , 0.84, 0.8 , 0.8 , 0.84, 0.88, 0.8 , 0.84, 0.84, 0.84,\n",
       "        0.84, 0.84, 0.84, 0.84, 0.8 , 0.84, 0.84, 0.8 , 0.84, 0.84, 0.8 ,\n",
       "        0.84]),\n",
       " 'split3_test_score': array([0.76, 0.76, 0.76, 0.76, 0.76, 0.76, 0.76, 0.76, 0.76, 0.76, 0.76,\n",
       "        0.76, 0.76, 0.76, 0.76, 0.76, 0.76, 0.88, 0.76, 0.76, 0.88, 0.76,\n",
       "        0.76, 0.88, 0.76, 0.76, 0.76, 0.76, 0.76, 0.76, 0.76, 0.76, 0.76,\n",
       "        0.76, 0.76, 0.76, 0.76, 0.76, 0.76, 0.76, 0.76, 0.88, 0.76, 0.76,\n",
       "        0.88, 0.76, 0.76, 0.88, 0.84, 0.76, 0.76, 0.84, 0.76, 0.76, 0.84,\n",
       "        0.76, 0.76, 0.84, 0.76, 0.76, 0.84, 0.76, 0.76, 0.84, 0.76, 0.88,\n",
       "        0.84, 0.76, 0.88, 0.84, 0.76, 0.88, 0.84, 0.76, 0.76, 0.84, 0.76,\n",
       "        0.76, 0.84, 0.76, 0.76, 0.84, 0.76, 0.76, 0.84, 0.88, 0.88, 0.84,\n",
       "        0.76, 0.88, 0.84, 0.76, 0.88, 0.84, 0.76, 0.88, 0.8 , 0.76, 0.76,\n",
       "        0.8 , 0.76, 0.76, 0.8 , 0.76, 0.76, 0.8 , 0.8 , 0.76, 0.8 , 0.92,\n",
       "        0.88, 0.8 , 0.76, 0.88, 0.8 , 0.76, 0.88, 0.8 , 0.76, 0.88, 0.8 ,\n",
       "        0.76, 0.76, 0.8 , 0.76, 0.76, 0.8 , 0.8 , 0.76, 0.8 , 0.84, 0.76,\n",
       "        0.8 , 0.92, 0.88, 0.8 , 0.76, 0.88, 0.8 , 0.76, 0.88, 0.8 , 0.76,\n",
       "        0.88]),\n",
       " 'split4_test_score': array([0.79166667, 0.79166667, 0.79166667, 0.79166667, 0.79166667,\n",
       "        0.79166667, 0.79166667, 0.79166667, 0.79166667, 0.79166667,\n",
       "        0.79166667, 0.79166667, 0.79166667, 0.79166667, 0.79166667,\n",
       "        0.79166667, 0.79166667, 0.91666667, 0.79166667, 0.79166667,\n",
       "        0.875     , 0.79166667, 0.79166667, 0.875     , 0.79166667,\n",
       "        0.79166667, 0.79166667, 0.79166667, 0.79166667, 0.79166667,\n",
       "        0.79166667, 0.79166667, 0.79166667, 0.79166667, 0.79166667,\n",
       "        0.79166667, 0.79166667, 0.79166667, 0.79166667, 0.79166667,\n",
       "        0.79166667, 0.875     , 0.79166667, 0.79166667, 0.875     ,\n",
       "        0.79166667, 0.79166667, 0.875     , 0.875     , 0.79166667,\n",
       "        0.79166667, 0.875     , 0.79166667, 0.79166667, 0.875     ,\n",
       "        0.79166667, 0.79166667, 0.875     , 0.79166667, 0.79166667,\n",
       "        0.875     , 0.79166667, 0.83333333, 0.875     , 0.79166667,\n",
       "        0.875     , 0.875     , 0.79166667, 0.875     , 0.875     ,\n",
       "        0.79166667, 0.875     , 0.875     , 0.79166667, 0.79166667,\n",
       "        0.875     , 0.79166667, 0.79166667, 0.875     , 0.79166667,\n",
       "        0.79166667, 0.875     , 0.83333333, 0.79166667, 0.875     ,\n",
       "        0.91666667, 0.91666667, 0.875     , 0.79166667, 0.875     ,\n",
       "        0.875     , 0.79166667, 0.875     , 0.875     , 0.79166667,\n",
       "        0.875     , 0.91666667, 0.79166667, 0.79166667, 0.91666667,\n",
       "        0.79166667, 0.79166667, 0.91666667, 0.83333333, 0.79166667,\n",
       "        0.91666667, 0.91666667, 0.79166667, 0.91666667, 0.875     ,\n",
       "        0.875     , 0.91666667, 0.79166667, 0.875     , 0.91666667,\n",
       "        0.79166667, 0.875     , 0.91666667, 0.79166667, 0.875     ,\n",
       "        0.875     , 0.79166667, 0.79166667, 0.875     , 0.83333333,\n",
       "        0.79166667, 0.875     , 0.91666667, 0.79166667, 0.875     ,\n",
       "        0.875     , 0.83333333, 0.875     , 0.875     , 0.875     ,\n",
       "        0.875     , 0.79166667, 0.875     , 0.875     , 0.79166667,\n",
       "        0.875     , 0.875     , 0.79166667, 0.875     ]),\n",
       " 'mean_test_score': array([0.79033333, 0.79033333, 0.79033333, 0.79033333, 0.79033333,\n",
       "        0.79033333, 0.79033333, 0.79033333, 0.79033333, 0.79033333,\n",
       "        0.79033333, 0.79033333, 0.79033333, 0.79033333, 0.79033333,\n",
       "        0.79033333, 0.79033333, 0.84733333, 0.79033333, 0.79033333,\n",
       "        0.823     , 0.79033333, 0.79033333, 0.823     , 0.79033333,\n",
       "        0.79033333, 0.79033333, 0.79033333, 0.79033333, 0.79033333,\n",
       "        0.79033333, 0.79033333, 0.79033333, 0.79033333, 0.79033333,\n",
       "        0.79033333, 0.79033333, 0.79033333, 0.79033333, 0.79033333,\n",
       "        0.79033333, 0.823     , 0.79033333, 0.79033333, 0.823     ,\n",
       "        0.79033333, 0.79033333, 0.823     , 0.831     , 0.79033333,\n",
       "        0.79033333, 0.831     , 0.79033333, 0.79033333, 0.831     ,\n",
       "        0.79033333, 0.79033333, 0.831     , 0.79033333, 0.79033333,\n",
       "        0.831     , 0.79033333, 0.80666667, 0.831     , 0.79033333,\n",
       "        0.823     , 0.831     , 0.79033333, 0.823     , 0.831     ,\n",
       "        0.79033333, 0.823     , 0.823     , 0.79033333, 0.79033333,\n",
       "        0.823     , 0.79033333, 0.79033333, 0.823     , 0.79033333,\n",
       "        0.79033333, 0.823     , 0.79866667, 0.79033333, 0.823     ,\n",
       "        0.85533333, 0.84733333, 0.823     , 0.79033333, 0.823     ,\n",
       "        0.823     , 0.79033333, 0.823     , 0.823     , 0.79033333,\n",
       "        0.823     , 0.83133333, 0.79033333, 0.79033333, 0.83133333,\n",
       "        0.79033333, 0.79033333, 0.83133333, 0.79866667, 0.79033333,\n",
       "        0.83133333, 0.84733333, 0.79033333, 0.83133333, 0.855     ,\n",
       "        0.823     , 0.83133333, 0.79033333, 0.823     , 0.83133333,\n",
       "        0.79033333, 0.823     , 0.83133333, 0.79033333, 0.823     ,\n",
       "        0.831     , 0.79033333, 0.79033333, 0.831     , 0.79866667,\n",
       "        0.79033333, 0.831     , 0.83933333, 0.79033333, 0.831     ,\n",
       "        0.831     , 0.80666667, 0.831     , 0.855     , 0.823     ,\n",
       "        0.831     , 0.79033333, 0.823     , 0.831     , 0.79033333,\n",
       "        0.823     , 0.831     , 0.79033333, 0.823     ]),\n",
       " 'std_test_score': array([0.01550627, 0.01550627, 0.01550627, 0.01550627, 0.01550627,\n",
       "        0.01550627, 0.01550627, 0.01550627, 0.01550627, 0.01550627,\n",
       "        0.01550627, 0.01550627, 0.01550627, 0.01550627, 0.01550627,\n",
       "        0.01550627, 0.01550627, 0.05798084, 0.01550627, 0.01550627,\n",
       "        0.05895761, 0.01550627, 0.01550627, 0.05895761, 0.01550627,\n",
       "        0.01550627, 0.01550627, 0.01550627, 0.01550627, 0.01550627,\n",
       "        0.01550627, 0.01550627, 0.01550627, 0.01550627, 0.01550627,\n",
       "        0.01550627, 0.01550627, 0.01550627, 0.01550627, 0.01550627,\n",
       "        0.01550627, 0.05895761, 0.01550627, 0.01550627, 0.05895761,\n",
       "        0.01550627, 0.01550627, 0.05895761, 0.02835489, 0.01550627,\n",
       "        0.01550627, 0.02835489, 0.01550627, 0.01550627, 0.02835489,\n",
       "        0.01550627, 0.01550627, 0.02835489, 0.01550627, 0.01550627,\n",
       "        0.02835489, 0.01550627, 0.02859681, 0.02835489, 0.01550627,\n",
       "        0.05895761, 0.02835489, 0.01550627, 0.05895761, 0.02835489,\n",
       "        0.01550627, 0.05895761, 0.03944617, 0.01550627, 0.01550627,\n",
       "        0.03944617, 0.01550627, 0.01550627, 0.03944617, 0.01550627,\n",
       "        0.01550627, 0.03944617, 0.02324746, 0.01550627, 0.03944617,\n",
       "        0.04712159, 0.05798084, 0.03944617, 0.01550627, 0.05895761,\n",
       "        0.03944617, 0.01550627, 0.05895761, 0.03944617, 0.01550627,\n",
       "        0.05895761, 0.07681435, 0.01550627, 0.01550627, 0.07681435,\n",
       "        0.01550627, 0.01550627, 0.07681435, 0.02324746, 0.01550627,\n",
       "        0.07681435, 0.0456265 , 0.01550627, 0.07681435, 0.04024922,\n",
       "        0.05895761, 0.07681435, 0.01550627, 0.05895761, 0.07681435,\n",
       "        0.01550627, 0.05895761, 0.07681435, 0.01550627, 0.05895761,\n",
       "        0.0681469 , 0.01550627, 0.01550627, 0.0681469 , 0.02324746,\n",
       "        0.01550627, 0.0681469 , 0.05563372, 0.01550627, 0.0681469 ,\n",
       "        0.02835489, 0.02859681, 0.0681469 , 0.04024922, 0.05895761,\n",
       "        0.0681469 , 0.01550627, 0.05895761, 0.0681469 , 0.01550627,\n",
       "        0.05895761, 0.0681469 , 0.01550627, 0.05895761]),\n",
       " 'rank_test_score': array([65, 65, 65, 65, 65, 65, 65, 65, 65, 65, 65, 65, 65, 65, 65, 65, 65,\n",
       "         5, 65, 65, 33, 65, 65, 33, 65, 65, 65, 65, 65, 65, 65, 65, 65, 65,\n",
       "        65, 65, 65, 65, 65, 65, 65, 33, 65, 65, 33, 65, 65, 33, 24, 65, 65,\n",
       "        24, 65, 65, 24, 65, 65, 24, 65, 65, 24, 65, 60, 24, 65, 33, 24, 65,\n",
       "        33, 24, 65, 33, 33, 65, 65, 33, 65, 65, 33, 65, 65, 33, 62, 65, 33,\n",
       "         1,  5, 33, 65, 33, 33, 65, 33, 33, 65, 33,  8, 65, 65,  8, 65, 65,\n",
       "         8, 62, 65,  8,  4, 65,  8,  2, 33,  8, 65, 33,  8, 65, 33,  8, 65,\n",
       "        33, 16, 65, 65, 16, 62, 65, 16,  7, 65, 16, 24, 60, 16,  2, 33, 16,\n",
       "        65, 33, 16, 65, 33, 16, 65, 33], dtype=int32)}"
      ]
     },
     "execution_count": 91,
     "metadata": {},
     "output_type": "execute_result"
    }
   ],
   "source": [
    "#svc_cv_grid.grid_scores_\n",
    "svc_cv_grid.cv_results_"
   ]
  },
  {
   "cell_type": "code",
   "execution_count": 92,
   "metadata": {
    "ExecuteTime": {
     "end_time": "2022-06-24T13:57:06.551107Z",
     "start_time": "2022-06-24T13:57:06.502750Z"
    }
   },
   "outputs": [
    {
     "name": "stdout",
     "output_type": "stream",
     "text": [
      "TRAIN DATA ACCURACY 0.9516129032258065\n",
      "\n",
      "Train data f1-score for class '1' 0.9702970297029703\n",
      "\n",
      "Train data f1-score for class '0' 0.8695652173913044\n",
      "\n",
      "\n",
      "--------------------------------------\n",
      "\n",
      "\n",
      "TEST DATA ACCURACY 0.8709677419354839\n",
      "\n",
      "Test data f1-score for class '1' 0.9259259259259259\n",
      "\n",
      "Test data f1-score for class '0' 0.5\n"
     ]
    }
   ],
   "source": [
    "## Predict\n",
    "train_predictions = svc_cv_grid.predict(X_train)\n",
    "test_predictions = svc_cv_grid.predict(X_test)\n",
    "\n",
    "print(\"TRAIN DATA ACCURACY\",accuracy_score(y_train,train_predictions))\n",
    "print(\"\\nTrain data f1-score for class '1'\",f1_score(y_train,train_predictions,pos_label=1))\n",
    "print(\"\\nTrain data f1-score for class '0'\",f1_score(y_train,train_predictions,pos_label=0))\n",
    "\n",
    "### Test data accuracy\n",
    "print(\"\\n\\n--------------------------------------\\n\\n\")\n",
    "print(\"TEST DATA ACCURACY\",accuracy_score(y_test,test_predictions))\n",
    "print(\"\\nTest data f1-score for class '1'\",f1_score(y_test,test_predictions,pos_label=1))\n",
    "print(\"\\nTest data f1-score for class '0'\",f1_score(y_test,test_predictions,pos_label=0))"
   ]
  },
  {
   "cell_type": "code",
   "execution_count": null,
   "metadata": {},
   "outputs": [],
   "source": []
  },
  {
   "cell_type": "markdown",
   "metadata": {},
   "source": [
    "# <center> Hepatitis Survival using Ensembles </center>\n",
    "\n",
    "___\n",
    "\n",
    "Ensemble refers to aggregation of predictions of different models based on weighted average or majority vote. Models can be different in their selection of sample set, feature set, hyperparameter and/or model family.\n",
    "It is used with tree models because decision trees are high variance models i.e. small change in data impacts the decision boundary considerably. Ensembles can be used with any classifier.\n",
    "\n",
    "<img src=\"image/EnsembleImage.jpeg\" alt=\"https://becominghuman.ai/ensemble-learning-bagging-and-boosting-d20f38be9b1e\" width=\"500\" height=\"400\">\n",
    "\n",
    "\n",
    "Ensembles can be in form of Bagging or Boosting.\n",
    "\n",
    "<img src=\"image/bb3.png\" alt=\"https://www.kdnuggets.com/\" width=\"700\" height=\"700\">\n",
    "\n",
    "___\n",
    "\n",
    "\n",
    "**The goal is to classify whether the hepatitis patient will survive or not.**\n",
    "___"
   ]
  },
  {
   "cell_type": "markdown",
   "metadata": {},
   "source": [
    "\n",
    "##  Random Forest\n",
    "\n"
   ]
  },
  {
   "cell_type": "markdown",
   "metadata": {},
   "source": [
    "#### Let us see the details of the Random Forest in Sklearn \n",
    "* class sklearn.ensemble.RandomForestClassifier(n_estimators=’warn’, criterion=’gini’, max_depth=None, min_samples_split=2, min_samples_leaf=1, min_weight_fraction_leaf=0.0, max_features=’auto’, max_leaf_nodes=None, min_impurity_decrease=0.0, min_impurity_split=None, bootstrap=True, oob_score=False, n_jobs=None, random_state=None, verbose=0, warm_start=False, class_weight=None)\n",
    "\n",
    "\n",
    "\n",
    "* A random forest is a meta estimator that fits a number of decision tree classifiers on various sub-samples of the dataset and uses averaging to improve the predictive accuracy and control over-fitting. The sub-sample size is always the same as the original input sample size but the samples are drawn with replacement if bootstrap=True "
   ]
  },
  {
   "cell_type": "markdown",
   "metadata": {},
   "source": [
    "**Parameters:**\n",
    "\n",
    "* **n_estimators** : integer, optional (default=10)\n",
    "    The number of trees in the forest.The default value of n_estimators will change from 10 in version 0.20 to 100 in version 0.22.\n",
    "\n",
    "* **criterion** : string, optional (default=”gini”)\n",
    "    The function to measure the quality of a split. Supported criteria are “gini” for the Gini impurity and “entropy” for the information gain. Note: this parameter is tree-specific.\n",
    "\n",
    "* **max_depth** : integer or None, optional (default=None)\n",
    "    The maximum depth of the tree. If None, then nodes are expanded until all leaves are pure or until all leaves contain less than min_samples_split samples.\n",
    "\n",
    "* **min_samples_split** : int, float, optional (default=2)\n",
    "    The minimum number of samples required to split an internal node:\n",
    "\n",
    "    If int, then consider min_samples_split as the minimum number.\n",
    "    If float, then min_samples_split is a fraction and ceil(min_samples_split * n_samples) are the minimum number of samples for each split.\n",
    "    \n",
    "* **min_samples_leaf** : int, float, optional (default=1) The minimum number of samples required to be at a leaf node. A split point at any depth will only be considered if it leaves at least min_samples_leaf training samples in each of the left and right branches. This may have the effect of smoothing the model, especially in regression.\n",
    "\n",
    "    If int, then consider min_samples_leaf as the minimum number. If float, then min_samples_leaf is a fraction and ceil(min_samples_leaf * n_samples) are the minimum number of samples for each node.\n",
    "\n",
    "* **max_features** : int, float, string or None, optional (default=”auto”)\n",
    "    The number of features to consider when looking for the best split\n"
   ]
  },
  {
   "cell_type": "code",
   "execution_count": 93,
   "metadata": {
    "ExecuteTime": {
     "end_time": "2022-06-24T14:23:28.997964Z",
     "start_time": "2022-06-24T14:23:28.989201Z"
    }
   },
   "outputs": [],
   "source": [
    "# Import Randomforest Library\n",
    "\n",
    "from sklearn.ensemble import RandomForestClassifier"
   ]
  },
  {
   "cell_type": "markdown",
   "metadata": {},
   "source": [
    "Important Hyperparameters\n",
    "Hyperparameters are used in random forests to either enhance the performance and predictive power of models or to make the model faster.\n",
    "\n",
    "Following hyperparameters increases the predictive power:\n",
    "\n",
    "1. n_estimators– number of trees the algorithm builds before averaging the predictions.\n",
    "\n",
    "2. max_features– maximum number of features random forest considers splitting a node.\n",
    "\n",
    "3. mini_sample_leaf– determines the minimum number of leaves required to split an internal node.\n",
    "\n",
    "Following hyperparameters increases the speed:\n",
    "\n",
    "1. n_jobs– it tells the engine how many processors it is allowed to use. If the value is 1, it can use only one processor but if the value is -1 there is no limit.\n",
    "\n",
    "2. random_state– controls randomness of the sample. The model will always produce the same results if it has a definite value of random state and if it has been given the same hyperparameters and the same training data.\n",
    "\n",
    "3. oob_score – OOB means out of the bag. It is a random forest cross-validation method. In this one-third of the sample is not used to train the data instead used to evaluate its performance. These samples are called out of bag samples.\n",
    "\n",
    " \n"
   ]
  },
  {
   "cell_type": "code",
   "execution_count": 94,
   "metadata": {
    "ExecuteTime": {
     "end_time": "2022-06-24T14:26:03.874389Z",
     "start_time": "2022-06-24T14:26:03.868037Z"
    }
   },
   "outputs": [],
   "source": [
    "classifier_rf = RandomForestClassifier()"
   ]
  },
  {
   "cell_type": "markdown",
   "metadata": {},
   "source": [
    "### Train Model"
   ]
  },
  {
   "cell_type": "code",
   "execution_count": 95,
   "metadata": {
    "ExecuteTime": {
     "end_time": "2022-06-24T14:27:03.640748Z",
     "start_time": "2022-06-24T14:27:03.327225Z"
    }
   },
   "outputs": [
    {
     "data": {
      "text/plain": [
       "RandomForestClassifier()"
      ]
     },
     "execution_count": 95,
     "metadata": {},
     "output_type": "execute_result"
    }
   ],
   "source": [
    "classifier_rf.fit(X_train,y_train)"
   ]
  },
  {
   "cell_type": "markdown",
   "metadata": {},
   "source": [
    "### Display Tree"
   ]
  },
  {
   "cell_type": "code",
   "execution_count": 96,
   "metadata": {
    "ExecuteTime": {
     "end_time": "2022-06-24T14:27:21.325013Z",
     "start_time": "2022-06-24T14:27:21.312558Z"
    }
   },
   "outputs": [
    {
     "data": {
      "text/plain": [
       "array([0, 1])"
      ]
     },
     "execution_count": 96,
     "metadata": {},
     "output_type": "execute_result"
    }
   ],
   "source": [
    "classifier_rf.classes_"
   ]
  },
  {
   "cell_type": "code",
   "execution_count": 97,
   "metadata": {
    "ExecuteTime": {
     "end_time": "2022-06-24T14:27:49.524744Z",
     "start_time": "2022-06-24T14:27:49.470126Z"
    }
   },
   "outputs": [],
   "source": [
    "train_pred = classifier_rf.predict(X_train)\n",
    "test_pred = classifier_rf.predict(X_test)"
   ]
  },
  {
   "cell_type": "code",
   "execution_count": 98,
   "metadata": {
    "ExecuteTime": {
     "end_time": "2022-06-24T14:28:05.583193Z",
     "start_time": "2022-06-24T14:28:05.573651Z"
    }
   },
   "outputs": [
    {
     "data": {
      "text/plain": [
       "array([1, 0, 0, 1, 1, 1, 1, 1, 1, 1, 1, 1, 1, 1, 1, 1, 1, 1, 1, 1, 1, 1,\n",
       "       1, 1, 0, 1, 1, 0, 1, 1, 0, 0, 1, 1, 1, 1, 0, 1, 1, 1, 1, 1, 1, 1,\n",
       "       1, 0, 0, 1, 1, 0, 1, 1, 1, 1, 0, 1, 0, 1, 1, 1, 0, 1, 1, 0, 0, 1,\n",
       "       1, 1, 1, 0, 1, 1, 0, 0, 1, 0, 0, 1, 1, 1, 0, 1, 1, 1, 1, 1, 1, 1,\n",
       "       1, 1, 1, 1, 1, 1, 1, 1, 1, 1, 1, 0, 1, 1, 1, 1, 1, 0, 1, 1, 1, 1,\n",
       "       1, 1, 1, 1, 1, 0, 1, 1, 1, 1, 1, 0, 1, 0])"
      ]
     },
     "execution_count": 98,
     "metadata": {},
     "output_type": "execute_result"
    }
   ],
   "source": [
    "train_pred"
   ]
  },
  {
   "cell_type": "markdown",
   "metadata": {},
   "source": [
    "### Evaluate"
   ]
  },
  {
   "cell_type": "code",
   "execution_count": 102,
   "metadata": {
    "ExecuteTime": {
     "end_time": "2022-06-24T14:31:14.886817Z",
     "start_time": "2022-06-24T14:31:14.874603Z"
    }
   },
   "outputs": [],
   "source": [
    "def evaluate_model(act, pred):\n",
    "    print(\"Confusion Matrix \\n\", confusion_matrix(act, pred))\n",
    "    print(\"Accurcay : \", accuracy_score(act, pred))\n",
    "    print(\"Recall   : \", recall_score(act, pred))\n",
    "    print(\"Precision: \", precision_score(act, pred)) \n",
    "    print(\"F1-score -1- \",f1_score(act,pred,pos_label =1))\n",
    "    print(\"F1-score -0-\" ,f1_score(act,pred,pos_label =0))"
   ]
  },
  {
   "cell_type": "code",
   "execution_count": 103,
   "metadata": {
    "ExecuteTime": {
     "end_time": "2022-06-24T14:31:16.635454Z",
     "start_time": "2022-06-24T14:31:16.594499Z"
    }
   },
   "outputs": [
    {
     "name": "stdout",
     "output_type": "stream",
     "text": [
      "--Train--\n",
      "Confusion Matrix \n",
      " [[26  0]\n",
      " [ 0 98]]\n",
      "Accurcay :  1.0\n",
      "Recall   :  1.0\n",
      "Precision:  1.0\n",
      "F1-score -1-  1.0\n",
      "F1-score -0- 1.0\n",
      "--Test--\n",
      "Confusion Matrix \n",
      " [[ 2  4]\n",
      " [ 3 22]]\n",
      "Accurcay :  0.7741935483870968\n",
      "Recall   :  0.88\n",
      "Precision:  0.8461538461538461\n",
      "F1-score -1-  0.8627450980392156\n",
      "F1-score -0- 0.3636363636363636\n"
     ]
    }
   ],
   "source": [
    "print(\"--Train--\")\n",
    "evaluate_model(y_train, train_pred)\n",
    "print(\"--Test--\")\n",
    "evaluate_model(y_test,test_pred)"
   ]
  },
  {
   "cell_type": "markdown",
   "metadata": {},
   "source": [
    "### List important features"
   ]
  },
  {
   "cell_type": "code",
   "execution_count": 104,
   "metadata": {
    "ExecuteTime": {
     "end_time": "2022-06-24T14:32:18.553586Z",
     "start_time": "2022-06-24T14:32:18.517221Z"
    }
   },
   "outputs": [
    {
     "data": {
      "text/plain": [
       "array([0.07277445, 0.16556157, 0.07983068, 0.0757419 , 0.11591695,\n",
       "       0.01644065, 0.01327818, 0.00644436, 0.0195641 , 0.03171456,\n",
       "       0.02009732, 0.01147923, 0.02996224, 0.04011626, 0.06586218,\n",
       "       0.11642222, 0.05401788, 0.06477526])"
      ]
     },
     "execution_count": 104,
     "metadata": {},
     "output_type": "execute_result"
    }
   ],
   "source": [
    "importances = classifier_rf.feature_importances_\n",
    "importances"
   ]
  },
  {
   "cell_type": "code",
   "execution_count": 106,
   "metadata": {
    "ExecuteTime": {
     "end_time": "2022-06-24T14:34:25.276537Z",
     "start_time": "2022-06-24T14:34:25.269089Z"
    }
   },
   "outputs": [
    {
     "data": {
      "text/plain": [
       "array([ 1, 15,  4,  2,  3,  0, 14, 17, 16, 13,  9, 12, 10,  8,  5,  6, 11,\n",
       "        7])"
      ]
     },
     "execution_count": 106,
     "metadata": {},
     "output_type": "execute_result"
    }
   ],
   "source": [
    "np.argsort(importances)[::-1]"
   ]
  },
  {
   "cell_type": "code",
   "execution_count": 107,
   "metadata": {
    "ExecuteTime": {
     "end_time": "2022-06-24T14:35:00.043705Z",
     "start_time": "2022-06-24T14:35:00.006781Z"
    },
    "scrolled": false
   },
   "outputs": [
    {
     "data": {
      "text/html": [
       "<div>\n",
       "<style scoped>\n",
       "    .dataframe tbody tr th:only-of-type {\n",
       "        vertical-align: middle;\n",
       "    }\n",
       "\n",
       "    .dataframe tbody tr th {\n",
       "        vertical-align: top;\n",
       "    }\n",
       "\n",
       "    .dataframe thead th {\n",
       "        text-align: right;\n",
       "    }\n",
       "</style>\n",
       "<table border=\"1\" class=\"dataframe\">\n",
       "  <thead>\n",
       "    <tr style=\"text-align: right;\">\n",
       "      <th></th>\n",
       "      <th>0</th>\n",
       "      <th>1</th>\n",
       "      <th>2</th>\n",
       "      <th>3</th>\n",
       "      <th>4</th>\n",
       "      <th>5</th>\n",
       "      <th>6</th>\n",
       "      <th>7</th>\n",
       "      <th>8</th>\n",
       "      <th>9</th>\n",
       "      <th>10</th>\n",
       "      <th>11</th>\n",
       "      <th>12</th>\n",
       "      <th>13</th>\n",
       "      <th>14</th>\n",
       "      <th>15</th>\n",
       "      <th>16</th>\n",
       "      <th>17</th>\n",
       "    </tr>\n",
       "  </thead>\n",
       "  <tbody>\n",
       "    <tr>\n",
       "      <th>0</th>\n",
       "      <td>bili</td>\n",
       "      <td>ascites_2.0</td>\n",
       "      <td>protime</td>\n",
       "      <td>alk</td>\n",
       "      <td>sgot</td>\n",
       "      <td>age</td>\n",
       "      <td>spiders_2.0</td>\n",
       "      <td>histology_2.0</td>\n",
       "      <td>varices_2.0</td>\n",
       "      <td>spleen_2.0</td>\n",
       "      <td>malaise_2.0</td>\n",
       "      <td>liverFirm_2.0</td>\n",
       "      <td>anorexia_2.0</td>\n",
       "      <td>fatigue_2.0</td>\n",
       "      <td>gender_2.0</td>\n",
       "      <td>steroid_2.0</td>\n",
       "      <td>liverBig_2.0</td>\n",
       "      <td>antivirals_2.0</td>\n",
       "    </tr>\n",
       "    <tr>\n",
       "      <th>1</th>\n",
       "      <td>0.165562</td>\n",
       "      <td>0.116422</td>\n",
       "      <td>0.115917</td>\n",
       "      <td>0.079831</td>\n",
       "      <td>0.075742</td>\n",
       "      <td>0.072774</td>\n",
       "      <td>0.065862</td>\n",
       "      <td>0.064775</td>\n",
       "      <td>0.054018</td>\n",
       "      <td>0.040116</td>\n",
       "      <td>0.031715</td>\n",
       "      <td>0.029962</td>\n",
       "      <td>0.020097</td>\n",
       "      <td>0.019564</td>\n",
       "      <td>0.016441</td>\n",
       "      <td>0.013278</td>\n",
       "      <td>0.011479</td>\n",
       "      <td>0.006444</td>\n",
       "    </tr>\n",
       "  </tbody>\n",
       "</table>\n",
       "</div>"
      ],
      "text/plain": [
       "         0            1         2         3         4         5            6   \\\n",
       "0      bili  ascites_2.0   protime       alk      sgot       age  spiders_2.0   \n",
       "1  0.165562     0.116422  0.115917  0.079831  0.075742  0.072774     0.065862   \n",
       "\n",
       "              7            8           9            10             11  \\\n",
       "0  histology_2.0  varices_2.0  spleen_2.0  malaise_2.0  liverFirm_2.0   \n",
       "1       0.064775     0.054018    0.040116     0.031715       0.029962   \n",
       "\n",
       "             12           13          14           15            16  \\\n",
       "0  anorexia_2.0  fatigue_2.0  gender_2.0  steroid_2.0  liverBig_2.0   \n",
       "1      0.020097     0.019564    0.016441     0.013278      0.011479   \n",
       "\n",
       "               17  \n",
       "0  antivirals_2.0  \n",
       "1        0.006444  "
      ]
     },
     "execution_count": 107,
     "metadata": {},
     "output_type": "execute_result"
    }
   ],
   "source": [
    "indices = np.argsort(importances)[::-1]\n",
    "ind_attr_names = X_train.columns\n",
    "pd.DataFrame([ind_attr_names[indices], np.sort(importances)[::-1]])"
   ]
  },
  {
   "cell_type": "code",
   "execution_count": 110,
   "metadata": {
    "ExecuteTime": {
     "end_time": "2022-06-24T14:40:33.443442Z",
     "start_time": "2022-06-24T14:40:33.148302Z"
    },
    "scrolled": true
   },
   "outputs": [
    {
     "data": {
      "image/png": "[encoded data removed]",
      "text/plain": [
       "<Figure size 432x288 with 1 Axes>"
      ]
     },
     "metadata": {
      "needs_background": "light"
     },
     "output_type": "display_data"
    }
   ],
   "source": [
    "# Ploting the top 10 features\n",
    "\n",
    "importances = classifier_rf.feature_importances_\n",
    "\n",
    "# Sort feature importances in descending order\n",
    "indices = np.argsort(importances)[::1]\n",
    "\n",
    "# Rearrange feature names so they match the sorted feature importances\n",
    "names = [X_train.columns[i] for i in indices]\n",
    "\n",
    "# Create plot\n",
    "plt.figure()\n",
    "\n",
    "# Create plot title\n",
    "plt.title(\"Feature Importance\")\n",
    "\n",
    "# Add bars\n",
    "plt.barh(range(X_train.shape[1])[0:10], importances[indices][0:10])\n",
    "\n",
    "# Add feature names as x-axis labels\n",
    "plt.yticks(range(X_train.shape[1])[0:10], names[0:10], rotation =45)\n",
    "\n",
    "# Show plot\n",
    "plt.show()"
   ]
  },
  {
   "cell_type": "markdown",
   "metadata": {},
   "source": [
    "## Hyper-parameter tuning using Grid Search and Cross Validation"
   ]
  },
  {
   "cell_type": "markdown",
   "metadata": {},
   "source": [
    "### Cross validation\n",
    "\n",
    "![](grid_search_cross_validation.png)"
   ]
  },
  {
   "cell_type": "markdown",
   "metadata": {},
   "source": [
    "### Two type of Machine Learning Model Parameters\n",
    "\n",
    "In a machine learning model, there are 2 types of parameters:\n",
    "\n",
    "* __`Model Parameters`__: These are the parameters that the model learn during training. These are also called fitted parameters.\n",
    "* __`Hyperparameters`__: These are adjustable parameters that must be tuned in order to obtain a model with optimal performance. These are fed into the model during training.\n",
    "\n",
    "\n"
   ]
  },
  {
   "cell_type": "markdown",
   "metadata": {},
   "source": [
    "### Parameters to test"
   ]
  },
  {
   "cell_type": "code",
   "execution_count": 111,
   "metadata": {
    "ExecuteTime": {
     "end_time": "2022-06-24T14:41:02.651868Z",
     "start_time": "2022-06-24T14:41:02.644724Z"
    }
   },
   "outputs": [],
   "source": [
    "param_grid = {#\"n_estimators\" : [50,60],\n",
    "              \"criterion\": [\"gini\", \"entropy\"],\n",
    "              \"min_samples_split\": [2, 5],\n",
    "              \"max_depth\": [None, 7],\n",
    "              \"min_samples_leaf\": [1, 5],\n",
    "              \"ccp_alpha\":[0.0001,0.001,0.01,0.1]\n",
    "             }"
   ]
  },
  {
   "cell_type": "markdown",
   "metadata": {},
   "source": [
    "### Instantiate Decision Tree"
   ]
  },
  {
   "cell_type": "code",
   "execution_count": 112,
   "metadata": {
    "ExecuteTime": {
     "end_time": "2022-06-24T14:41:46.781466Z",
     "start_time": "2022-06-24T14:41:46.772402Z"
    }
   },
   "outputs": [],
   "source": [
    "rfclf2 = RandomForestClassifier()"
   ]
  },
  {
   "cell_type": "markdown",
   "metadata": {},
   "source": [
    "### GridSearchCV "
   ]
  },
  {
   "cell_type": "code",
   "execution_count": 113,
   "metadata": {
    "ExecuteTime": {
     "end_time": "2022-06-24T14:42:18.461721Z",
     "start_time": "2022-06-24T14:42:18.454770Z"
    }
   },
   "outputs": [],
   "source": [
    "rfclf_grid = GridSearchCV(rfclf2, param_grid, cv=3)"
   ]
  },
  {
   "cell_type": "markdown",
   "metadata": {},
   "source": [
    "### Train"
   ]
  },
  {
   "cell_type": "code",
   "execution_count": 114,
   "metadata": {
    "ExecuteTime": {
     "end_time": "2022-06-24T14:42:57.338749Z",
     "start_time": "2022-06-24T14:42:21.499580Z"
    }
   },
   "outputs": [
    {
     "data": {
      "text/plain": [
       "GridSearchCV(cv=3, estimator=RandomForestClassifier(),\n",
       "             param_grid={'ccp_alpha': [0.0001, 0.001, 0.01, 0.1],\n",
       "                         'criterion': ['gini', 'entropy'],\n",
       "                         'max_depth': [None, 7], 'min_samples_leaf': [1, 5],\n",
       "                         'min_samples_split': [2, 5]})"
      ]
     },
     "execution_count": 114,
     "metadata": {},
     "output_type": "execute_result"
    }
   ],
   "source": [
    "rfclf_grid.fit(X_train, y_train)"
   ]
  },
  {
   "cell_type": "markdown",
   "metadata": {},
   "source": [
    "### Best Params"
   ]
  },
  {
   "cell_type": "code",
   "execution_count": 115,
   "metadata": {
    "ExecuteTime": {
     "end_time": "2022-06-24T14:44:33.574960Z",
     "start_time": "2022-06-24T14:44:33.565333Z"
    },
    "scrolled": true
   },
   "outputs": [
    {
     "data": {
      "text/plain": [
       "{'ccp_alpha': 0.001,\n",
       " 'criterion': 'entropy',\n",
       " 'max_depth': None,\n",
       " 'min_samples_leaf': 1,\n",
       " 'min_samples_split': 2}"
      ]
     },
     "execution_count": 115,
     "metadata": {},
     "output_type": "execute_result"
    }
   ],
   "source": [
    "rfclf_grid.best_params_"
   ]
  },
  {
   "cell_type": "markdown",
   "metadata": {},
   "source": [
    "### Predict "
   ]
  },
  {
   "cell_type": "code",
   "execution_count": 116,
   "metadata": {
    "ExecuteTime": {
     "end_time": "2022-06-24T14:44:48.522141Z",
     "start_time": "2022-06-24T14:44:48.472718Z"
    }
   },
   "outputs": [],
   "source": [
    "train_pred = rfclf_grid.predict(X_train)\n",
    "test_pred = rfclf_grid.predict(X_test)"
   ]
  },
  {
   "cell_type": "markdown",
   "metadata": {},
   "source": [
    "### Evaluate"
   ]
  },
  {
   "cell_type": "code",
   "execution_count": 117,
   "metadata": {
    "ExecuteTime": {
     "end_time": "2022-06-24T14:44:50.553805Z",
     "start_time": "2022-06-24T14:44:50.517247Z"
    }
   },
   "outputs": [
    {
     "name": "stdout",
     "output_type": "stream",
     "text": [
      "--Train--\n",
      "Confusion Matrix \n",
      " [[26  0]\n",
      " [ 0 98]]\n",
      "Accurcay :  1.0\n",
      "Recall   :  1.0\n",
      "Precision:  1.0\n",
      "F1-score -1-  1.0\n",
      "F1-score -0- 1.0\n",
      "--Test--\n",
      "Confusion Matrix \n",
      " [[ 2  4]\n",
      " [ 2 23]]\n",
      "Accurcay :  0.8064516129032258\n",
      "Recall   :  0.92\n",
      "Precision:  0.8518518518518519\n",
      "F1-score -1-  0.8846153846153846\n",
      "F1-score -0- 0.4\n"
     ]
    }
   ],
   "source": [
    "print(\"--Train--\")\n",
    "evaluate_model(y_train, train_pred)\n",
    "print(\"--Test--\")\n",
    "evaluate_model(y_test, test_pred)"
   ]
  },
  {
   "cell_type": "markdown",
   "metadata": {},
   "source": [
    "## Building RandomForest Model using Variable Importance"
   ]
  },
  {
   "cell_type": "code",
   "execution_count": 118,
   "metadata": {
    "ExecuteTime": {
     "end_time": "2022-06-24T14:45:25.979401Z",
     "start_time": "2022-06-24T14:45:25.942101Z"
    }
   },
   "outputs": [
    {
     "data": {
      "text/plain": [
       "array([0.09340595, 0.16618934, 0.07358601, 0.08832906, 0.10314939,\n",
       "       0.0148292 , 0.01919321, 0.00647484, 0.02743973, 0.02248651,\n",
       "       0.02517776, 0.01267098, 0.03174424, 0.03238283, 0.07915967,\n",
       "       0.08479994, 0.0392629 , 0.07971844])"
      ]
     },
     "execution_count": 118,
     "metadata": {},
     "output_type": "execute_result"
    }
   ],
   "source": [
    "importances = rfclf_grid.best_estimator_.feature_importances_\n",
    "importances"
   ]
  },
  {
   "cell_type": "code",
   "execution_count": 119,
   "metadata": {
    "ExecuteTime": {
     "end_time": "2022-06-24T14:45:27.854636Z",
     "start_time": "2022-06-24T14:45:27.846599Z"
    }
   },
   "outputs": [
    {
     "name": "stdout",
     "output_type": "stream",
     "text": [
      "[ 1  4  0  3 15 17 14  2 16 13 12  8 10  9  6  5 11  7]\n"
     ]
    }
   ],
   "source": [
    "indices = np.argsort(importances)[::-1]\n",
    "print(indices)"
   ]
  },
  {
   "cell_type": "code",
   "execution_count": 120,
   "metadata": {
    "ExecuteTime": {
     "end_time": "2022-06-24T14:45:28.529697Z",
     "start_time": "2022-06-24T14:45:28.520063Z"
    }
   },
   "outputs": [
    {
     "name": "stdout",
     "output_type": "stream",
     "text": [
      "[ 1  4  0  3 15]\n"
     ]
    }
   ],
   "source": [
    "select = indices[0:5]\n",
    "print(select)"
   ]
  },
  {
   "cell_type": "markdown",
   "metadata": {},
   "source": [
    "### Instantiate Model"
   ]
  },
  {
   "cell_type": "code",
   "execution_count": 121,
   "metadata": {
    "ExecuteTime": {
     "end_time": "2022-06-24T14:46:04.275399Z",
     "start_time": "2022-06-24T14:46:04.270123Z"
    }
   },
   "outputs": [],
   "source": [
    "rfclf4 = RandomForestClassifier(criterion= 'entropy', \n",
    "                                max_depth= 3, \n",
    "                                min_samples_leaf= 1,\n",
    "                                min_samples_split= 2,\n",
    "                                ccp_alpha=0.001)"
   ]
  },
  {
   "cell_type": "markdown",
   "metadata": {},
   "source": [
    "### Train the model"
   ]
  },
  {
   "cell_type": "code",
   "execution_count": 122,
   "metadata": {
    "ExecuteTime": {
     "end_time": "2022-06-24T14:46:06.605509Z",
     "start_time": "2022-06-24T14:46:06.393905Z"
    }
   },
   "outputs": [],
   "source": [
    "rfclf4 = rfclf4.fit(X_train.values[:,select], y_train)"
   ]
  },
  {
   "cell_type": "markdown",
   "metadata": {},
   "source": [
    "### Predict"
   ]
  },
  {
   "cell_type": "code",
   "execution_count": 123,
   "metadata": {
    "ExecuteTime": {
     "end_time": "2022-06-24T14:46:10.389389Z",
     "start_time": "2022-06-24T14:46:10.347157Z"
    }
   },
   "outputs": [],
   "source": [
    "train_pred = rfclf4.predict(X_train.values[:,select])\n",
    "test_pred = rfclf4.predict(X_test.values[:,select])"
   ]
  },
  {
   "cell_type": "markdown",
   "metadata": {},
   "source": [
    "### Evaluate"
   ]
  },
  {
   "cell_type": "code",
   "execution_count": 124,
   "metadata": {
    "ExecuteTime": {
     "end_time": "2022-06-24T14:46:43.008437Z",
     "start_time": "2022-06-24T14:46:42.955840Z"
    }
   },
   "outputs": [
    {
     "name": "stdout",
     "output_type": "stream",
     "text": [
      "--Train--\n",
      "Confusion Matrix \n",
      " [[13 13]\n",
      " [ 0 98]]\n",
      "Accurcay :  0.8951612903225806\n",
      "Recall   :  1.0\n",
      "Precision:  0.8828828828828829\n",
      "F1-score -1-  0.937799043062201\n",
      "F1-score -0- 0.6666666666666666\n",
      "--Test--\n",
      "Confusion Matrix \n",
      " [[ 2  4]\n",
      " [ 2 23]]\n",
      "Accurcay :  0.8064516129032258\n",
      "Recall   :  0.92\n",
      "Precision:  0.8518518518518519\n",
      "F1-score -1-  0.8846153846153846\n",
      "F1-score -0- 0.4\n"
     ]
    }
   ],
   "source": [
    "print(\"--Train--\")\n",
    "evaluate_model(y_train,train_pred)\n",
    "print(\"--Test--\")\n",
    "evaluate_model(y_test,test_pred)"
   ]
  },
  {
   "cell_type": "code",
   "execution_count": null,
   "metadata": {},
   "outputs": [],
   "source": []
  }
 ],
 "metadata": {
  "kernelspec": {
   "display_name": "Python 3",
   "language": "python",
   "name": "python3"
  },
  "language_info": {
   "codemirror_mode": {
    "name": "ipython",
    "version": 3
   },
   "file_extension": ".py",
   "mimetype": "text/x-python",
   "name": "python",
   "nbconvert_exporter": "python",
   "pygments_lexer": "ipython3",
   "version": "3.7.3"
  },
  "latex_envs": {
   "LaTeX_envs_menu_present": true,
   "autoclose": false,
   "autocomplete": true,
   "bibliofile": "biblio.bib",
   "cite_by": "apalike",
   "current_citInitial": 1,
   "eqLabelWithNumbers": true,
   "eqNumInitial": 1,
   "hotkeys": {
    "equation": "Ctrl-E",
    "itemize": "Ctrl-I"
   },
   "labels_anchors": false,
   "latex_user_defs": false,
   "report_style_numbering": false,
   "user_envs_cfg": false
  }
 },
 "nbformat": 4,
 "nbformat_minor": 4
}
